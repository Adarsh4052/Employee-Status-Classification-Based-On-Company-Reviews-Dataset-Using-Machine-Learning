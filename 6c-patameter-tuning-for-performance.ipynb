{
 "cells": [
  {
   "cell_type": "code",
   "execution_count": 1,
   "metadata": {},
   "outputs": [
    {
     "data": {
      "text/html": [
       "<script type=\"text/javascript\">window.PlotlyConfig = {MathJaxConfig: 'local'};</script><script type=\"text/javascript\">if (window.MathJax) {MathJax.Hub.Config({SVG: {font: \"STIX-Web\"}});}</script><script>requirejs.config({paths: { 'plotly': ['https://cdn.plot.ly/plotly-latest.min']},});if(!window._Plotly) {require(['plotly'],function(plotly) {window._Plotly=plotly;});}</script>"
      ],
      "text/vnd.plotly.v1+html": [
       "<script type=\"text/javascript\">window.PlotlyConfig = {MathJaxConfig: 'local'};</script><script type=\"text/javascript\">if (window.MathJax) {MathJax.Hub.Config({SVG: {font: \"STIX-Web\"}});}</script><script>requirejs.config({paths: { 'plotly': ['https://cdn.plot.ly/plotly-latest.min']},});if(!window._Plotly) {require(['plotly'],function(plotly) {window._Plotly=plotly;});}</script>"
      ]
     },
     "metadata": {},
     "output_type": "display_data"
    }
   ],
   "source": [
    "# Reference https://www.youtube.com/watch?v=gCWBFyFTxVU\n",
    "# Dataset https://www.kaggle.com/mlg-ulb/creditcardfraud\n",
    "\n",
    "import pandas as pd\n",
    "\n",
    "import matplotlib.pyplot as plt\n",
    "from matplotlib import pyplot\n",
    "from plotly.offline import download_plotlyjs, init_notebook_mode, plot, iplot\n",
    "import plotly.graph_objs as go \n",
    "from IPython.display import Image\n",
    "import plotly.plotly as py\n",
    "import plotly.graph_objs as go \n",
    "from plotly.offline import download_plotlyjs, init_notebook_mode, plot, iplot\n",
    "init_notebook_mode(connected=True)\n",
    "\n",
    "import seaborn as sns #remove?\n",
    "from sklearn.model_selection import train_test_split\n",
    "from sklearn import tree\n",
    "from sklearn.externals.six import StringIO  \n",
    "#import pydotplus\n",
    "from sklearn.ensemble import RandomForestClassifier\n",
    "\n",
    "\n",
    "\n",
    "import numpy as np\n",
    "import seaborn as sns\n",
    "\n",
    "# ml models decistion tree\n",
    "from sklearn.tree import DecisionTreeClassifier\n",
    "\n",
    "# One of the Ensemle model -- Random Forset which is ensemple of decision trees\n",
    "from sklearn.ensemble import RandomForestClassifier, BaggingClassifier, AdaBoostClassifier, VotingClassifier\n",
    "\n",
    "# import logistic regression, SVC  for ensembling\n",
    "from sklearn.linear_model import LogisticRegression\n",
    "from sklearn.svm import SVC, LinearSVC\n",
    "\n",
    "# Naive Bayes\n",
    "from sklearn.naive_bayes import MultinomialNB\n",
    "\n",
    "# Distance based\n",
    "from sklearn.neighbors import KNeighborsClassifier\n",
    "\n",
    "# packages for metric for evalaution of the models\n",
    "from sklearn import metrics\n",
    "from sklearn.metrics import classification_report , accuracy_score, confusion_matrix\n",
    "\n",
    "# to save the models so that we don't need to train the models every time we need to do prediction\n",
    "from sklearn.externals import joblib\n",
    "\n",
    "# Rule based classifier\n",
    "from sklearn.dummy import DummyClassifier\n",
    "\n",
    "# let's do some moedelling\n",
    "from sklearn.model_selection import train_test_split, cross_val_score\n",
    "\n"
   ]
  },
  {
   "cell_type": "code",
   "execution_count": 2,
   "metadata": {},
   "outputs": [],
   "source": [
    "df = pd.read_csv(r'C:\\Users\\Adarsh\\uOttawa\\ML Course Project-7Apr\\datasets\\6a-combined-text-numeric.csv')\n"
   ]
  },
  {
   "cell_type": "code",
   "execution_count": 3,
   "metadata": {},
   "outputs": [
    {
     "data": {
      "text/html": [
       "<div>\n",
       "<style scoped>\n",
       "    .dataframe tbody tr th:only-of-type {\n",
       "        vertical-align: middle;\n",
       "    }\n",
       "\n",
       "    .dataframe tbody tr th {\n",
       "        vertical-align: top;\n",
       "    }\n",
       "\n",
       "    .dataframe thead th {\n",
       "        text-align: right;\n",
       "    }\n",
       "</style>\n",
       "<table border=\"1\" class=\"dataframe\">\n",
       "  <thead>\n",
       "    <tr style=\"text-align: right;\">\n",
       "      <th></th>\n",
       "      <th>overall-ratings</th>\n",
       "      <th>work-balance-stars</th>\n",
       "      <th>culture-values-stars</th>\n",
       "      <th>carrer-opportunities-stars</th>\n",
       "      <th>comp-benefit-stars</th>\n",
       "      <th>senior-mangemnet-stars</th>\n",
       "      <th>helpful-count</th>\n",
       "      <th>job_status</th>\n",
       "      <th>post_day</th>\n",
       "      <th>post_month</th>\n",
       "      <th>...</th>\n",
       "      <th>company_apple</th>\n",
       "      <th>company_facebook</th>\n",
       "      <th>company_google</th>\n",
       "      <th>company_microsoft</th>\n",
       "      <th>company_netflix</th>\n",
       "      <th>job_title_num</th>\n",
       "      <th>location_num</th>\n",
       "      <th>feedback_word_count</th>\n",
       "      <th>avg_word_len</th>\n",
       "      <th>sentiment_score</th>\n",
       "    </tr>\n",
       "  </thead>\n",
       "  <tbody>\n",
       "    <tr>\n",
       "      <th>0</th>\n",
       "      <td>4.0</td>\n",
       "      <td>4.0</td>\n",
       "      <td>2.5</td>\n",
       "      <td>4.0</td>\n",
       "      <td>4.5</td>\n",
       "      <td>4.0</td>\n",
       "      <td>0</td>\n",
       "      <td>0</td>\n",
       "      <td>20</td>\n",
       "      <td>3</td>\n",
       "      <td>...</td>\n",
       "      <td>0</td>\n",
       "      <td>0</td>\n",
       "      <td>0</td>\n",
       "      <td>0</td>\n",
       "      <td>0</td>\n",
       "      <td>0.00040</td>\n",
       "      <td>0.068375</td>\n",
       "      <td>88</td>\n",
       "      <td>4.534091</td>\n",
       "      <td>0.124329</td>\n",
       "    </tr>\n",
       "    <tr>\n",
       "      <th>1</th>\n",
       "      <td>5.0</td>\n",
       "      <td>5.0</td>\n",
       "      <td>5.0</td>\n",
       "      <td>5.0</td>\n",
       "      <td>5.0</td>\n",
       "      <td>5.0</td>\n",
       "      <td>0</td>\n",
       "      <td>0</td>\n",
       "      <td>31</td>\n",
       "      <td>10</td>\n",
       "      <td>...</td>\n",
       "      <td>1</td>\n",
       "      <td>0</td>\n",
       "      <td>0</td>\n",
       "      <td>0</td>\n",
       "      <td>0</td>\n",
       "      <td>0.00005</td>\n",
       "      <td>0.018650</td>\n",
       "      <td>104</td>\n",
       "      <td>4.336538</td>\n",
       "      <td>0.448133</td>\n",
       "    </tr>\n",
       "    <tr>\n",
       "      <th>2</th>\n",
       "      <td>5.0</td>\n",
       "      <td>3.0</td>\n",
       "      <td>5.0</td>\n",
       "      <td>5.0</td>\n",
       "      <td>5.0</td>\n",
       "      <td>5.0</td>\n",
       "      <td>1</td>\n",
       "      <td>0</td>\n",
       "      <td>16</td>\n",
       "      <td>4</td>\n",
       "      <td>...</td>\n",
       "      <td>0</td>\n",
       "      <td>0</td>\n",
       "      <td>0</td>\n",
       "      <td>0</td>\n",
       "      <td>0</td>\n",
       "      <td>0.41015</td>\n",
       "      <td>0.377600</td>\n",
       "      <td>151</td>\n",
       "      <td>4.516556</td>\n",
       "      <td>0.373810</td>\n",
       "    </tr>\n",
       "    <tr>\n",
       "      <th>3</th>\n",
       "      <td>3.0</td>\n",
       "      <td>2.0</td>\n",
       "      <td>2.0</td>\n",
       "      <td>3.0</td>\n",
       "      <td>4.0</td>\n",
       "      <td>2.0</td>\n",
       "      <td>2</td>\n",
       "      <td>0</td>\n",
       "      <td>3</td>\n",
       "      <td>1</td>\n",
       "      <td>...</td>\n",
       "      <td>0</td>\n",
       "      <td>0</td>\n",
       "      <td>0</td>\n",
       "      <td>0</td>\n",
       "      <td>0</td>\n",
       "      <td>0.00050</td>\n",
       "      <td>0.068375</td>\n",
       "      <td>153</td>\n",
       "      <td>4.895425</td>\n",
       "      <td>0.199087</td>\n",
       "    </tr>\n",
       "    <tr>\n",
       "      <th>4</th>\n",
       "      <td>5.0</td>\n",
       "      <td>5.0</td>\n",
       "      <td>5.0</td>\n",
       "      <td>5.0</td>\n",
       "      <td>5.0</td>\n",
       "      <td>5.0</td>\n",
       "      <td>0</td>\n",
       "      <td>0</td>\n",
       "      <td>27</td>\n",
       "      <td>12</td>\n",
       "      <td>...</td>\n",
       "      <td>0</td>\n",
       "      <td>0</td>\n",
       "      <td>0</td>\n",
       "      <td>0</td>\n",
       "      <td>0</td>\n",
       "      <td>0.41015</td>\n",
       "      <td>0.377600</td>\n",
       "      <td>27</td>\n",
       "      <td>6.370370</td>\n",
       "      <td>0.480000</td>\n",
       "    </tr>\n",
       "  </tbody>\n",
       "</table>\n",
       "<p>5 rows × 22 columns</p>\n",
       "</div>"
      ],
      "text/plain": [
       "   overall-ratings  work-balance-stars  culture-values-stars  \\\n",
       "0              4.0                 4.0                   2.5   \n",
       "1              5.0                 5.0                   5.0   \n",
       "2              5.0                 3.0                   5.0   \n",
       "3              3.0                 2.0                   2.0   \n",
       "4              5.0                 5.0                   5.0   \n",
       "\n",
       "   carrer-opportunities-stars  comp-benefit-stars  senior-mangemnet-stars  \\\n",
       "0                         4.0                 4.5                     4.0   \n",
       "1                         5.0                 5.0                     5.0   \n",
       "2                         5.0                 5.0                     5.0   \n",
       "3                         3.0                 4.0                     2.0   \n",
       "4                         5.0                 5.0                     5.0   \n",
       "\n",
       "   helpful-count  job_status  post_day  post_month       ...         \\\n",
       "0              0           0        20           3       ...          \n",
       "1              0           0        31          10       ...          \n",
       "2              1           0        16           4       ...          \n",
       "3              2           0         3           1       ...          \n",
       "4              0           0        27          12       ...          \n",
       "\n",
       "   company_apple  company_facebook  company_google  company_microsoft  \\\n",
       "0              0                 0               0                  0   \n",
       "1              1                 0               0                  0   \n",
       "2              0                 0               0                  0   \n",
       "3              0                 0               0                  0   \n",
       "4              0                 0               0                  0   \n",
       "\n",
       "   company_netflix  job_title_num  location_num  feedback_word_count  \\\n",
       "0                0        0.00040      0.068375                   88   \n",
       "1                0        0.00005      0.018650                  104   \n",
       "2                0        0.41015      0.377600                  151   \n",
       "3                0        0.00050      0.068375                  153   \n",
       "4                0        0.41015      0.377600                   27   \n",
       "\n",
       "   avg_word_len  sentiment_score  \n",
       "0      4.534091         0.124329  \n",
       "1      4.336538         0.448133  \n",
       "2      4.516556         0.373810  \n",
       "3      4.895425         0.199087  \n",
       "4      6.370370         0.480000  \n",
       "\n",
       "[5 rows x 22 columns]"
      ]
     },
     "execution_count": 3,
     "metadata": {},
     "output_type": "execute_result"
    }
   ],
   "source": [
    "df.head(5)"
   ]
  },
  {
   "cell_type": "code",
   "execution_count": 4,
   "metadata": {
    "scrolled": true
   },
   "outputs": [
    {
     "data": {
      "text/plain": [
       "<matplotlib.axes._subplots.AxesSubplot at 0x21ed532c860>"
      ]
     },
     "execution_count": 4,
     "metadata": {},
     "output_type": "execute_result"
    },
    {
     "data": {
      "image/png": "[encoded data removed]",
      "text/plain": [
       "<Figure size 864x648 with 2 Axes>"
      ]
     },
     "metadata": {
      "needs_background": "light"
     },
     "output_type": "display_data"
    }
   ],
   "source": [
    "# it can be easily seen, this is also a class imbalance problem\n",
    "# let's see the correlation between the features\n",
    "corr_matrix = df.corr()\n",
    "\n",
    "# plot the correlation matrix's heatmap\n",
    "fig = plt.figure( figsize= (12, 9 ) )\n",
    "sns.heatmap(corr_matrix, vmax= .8, square= True )"
   ]
  },
  {
   "cell_type": "code",
   "execution_count": 5,
   "metadata": {},
   "outputs": [],
   "source": [
    "# Drop some of columns which have high- correlation\n",
    "X = df[['overall-ratings', 'helpful-count', 'post_day',\n",
    "       'post_month', 'post_year', 'company_amazon', 'company_apple',\n",
    "       'company_facebook', 'company_google', 'company_microsoft',\n",
    "       'company_netflix', 'job_title_num',\n",
    "       'feedback_word_count', 'avg_word_len', 'sentiment_score']]\n",
    "\n",
    "Y = df['job_status']\n"
   ]
  },
  {
   "cell_type": "code",
   "execution_count": 6,
   "metadata": {},
   "outputs": [],
   "source": [
    "features = ['overall-ratings', 'helpful-count', 'post_day',\n",
    "       'post_month', 'post_year', 'company_amazon', 'company_apple',\n",
    "       'company_facebook', 'company_google', 'company_microsoft',\n",
    "       'company_netflix', 'job_title_num',\n",
    "       'feedback_word_count', 'avg_word_len', 'sentiment_score']"
   ]
  },
  {
   "cell_type": "code",
   "execution_count": 7,
   "metadata": {
    "scrolled": true
   },
   "outputs": [
    {
     "data": {
      "text/html": [
       "<div>\n",
       "<style scoped>\n",
       "    .dataframe tbody tr th:only-of-type {\n",
       "        vertical-align: middle;\n",
       "    }\n",
       "\n",
       "    .dataframe tbody tr th {\n",
       "        vertical-align: top;\n",
       "    }\n",
       "\n",
       "    .dataframe thead th {\n",
       "        text-align: right;\n",
       "    }\n",
       "</style>\n",
       "<table border=\"1\" class=\"dataframe\">\n",
       "  <thead>\n",
       "    <tr style=\"text-align: right;\">\n",
       "      <th></th>\n",
       "      <th>overall-ratings</th>\n",
       "      <th>helpful-count</th>\n",
       "      <th>post_day</th>\n",
       "      <th>post_month</th>\n",
       "      <th>post_year</th>\n",
       "      <th>company_amazon</th>\n",
       "      <th>company_apple</th>\n",
       "      <th>company_facebook</th>\n",
       "      <th>company_google</th>\n",
       "      <th>company_microsoft</th>\n",
       "      <th>company_netflix</th>\n",
       "      <th>job_title_num</th>\n",
       "      <th>feedback_word_count</th>\n",
       "      <th>avg_word_len</th>\n",
       "      <th>sentiment_score</th>\n",
       "    </tr>\n",
       "  </thead>\n",
       "  <tbody>\n",
       "    <tr>\n",
       "      <th>0</th>\n",
       "      <td>4.0</td>\n",
       "      <td>0</td>\n",
       "      <td>20</td>\n",
       "      <td>3</td>\n",
       "      <td>2010</td>\n",
       "      <td>1</td>\n",
       "      <td>0</td>\n",
       "      <td>0</td>\n",
       "      <td>0</td>\n",
       "      <td>0</td>\n",
       "      <td>0</td>\n",
       "      <td>0.00040</td>\n",
       "      <td>88</td>\n",
       "      <td>4.534091</td>\n",
       "      <td>0.124329</td>\n",
       "    </tr>\n",
       "    <tr>\n",
       "      <th>1</th>\n",
       "      <td>5.0</td>\n",
       "      <td>0</td>\n",
       "      <td>31</td>\n",
       "      <td>10</td>\n",
       "      <td>2014</td>\n",
       "      <td>0</td>\n",
       "      <td>1</td>\n",
       "      <td>0</td>\n",
       "      <td>0</td>\n",
       "      <td>0</td>\n",
       "      <td>0</td>\n",
       "      <td>0.00005</td>\n",
       "      <td>104</td>\n",
       "      <td>4.336538</td>\n",
       "      <td>0.448133</td>\n",
       "    </tr>\n",
       "  </tbody>\n",
       "</table>\n",
       "</div>"
      ],
      "text/plain": [
       "   overall-ratings  helpful-count  post_day  post_month  post_year  \\\n",
       "0              4.0              0        20           3       2010   \n",
       "1              5.0              0        31          10       2014   \n",
       "\n",
       "   company_amazon  company_apple  company_facebook  company_google  \\\n",
       "0               1              0                 0               0   \n",
       "1               0              1                 0               0   \n",
       "\n",
       "   company_microsoft  company_netflix  job_title_num  feedback_word_count  \\\n",
       "0                  0                0        0.00040                   88   \n",
       "1                  0                0        0.00005                  104   \n",
       "\n",
       "   avg_word_len  sentiment_score  \n",
       "0      4.534091         0.124329  \n",
       "1      4.336538         0.448133  "
      ]
     },
     "execution_count": 7,
     "metadata": {},
     "output_type": "execute_result"
    }
   ],
   "source": [
    "X.head(2)"
   ]
  },
  {
   "cell_type": "code",
   "execution_count": 8,
   "metadata": {},
   "outputs": [
    {
     "data": {
      "text/plain": [
       "<matplotlib.axes._subplots.AxesSubplot at 0x21ed5707a20>"
      ]
     },
     "execution_count": 8,
     "metadata": {},
     "output_type": "execute_result"
    },
    {
     "data": {
      "image/png": "[encoded data removed]",
      "text/plain": [
       "<Figure size 864x648 with 2 Axes>"
      ]
     },
     "metadata": {
      "needs_background": "light"
     },
     "output_type": "display_data"
    }
   ],
   "source": [
    "# it can be easily seen, this is also a class imbalance problem\n",
    "# let's see the correlation between the features\n",
    "corr_matrix = X.corr()\n",
    "\n",
    "# plot the correlation matrix's heatmap\n",
    "fig = plt.figure( figsize= (12, 9 ) )\n",
    "sns.heatmap(corr_matrix, vmax= .8, square= True )"
   ]
  },
  {
   "cell_type": "code",
   "execution_count": 9,
   "metadata": {},
   "outputs": [],
   "source": [
    "X_train, X_test, y_train, y_test = train_test_split(X, Y, test_size = 0.2 , random_state = 4)"
   ]
  },
  {
   "cell_type": "code",
   "execution_count": 10,
   "metadata": {},
   "outputs": [
    {
     "name": "stdout",
     "output_type": "stream",
     "text": [
      "Accuracy = \n",
      "0.726375\n",
      "\n",
      "\n",
      "              precision    recall  f1-score   support\n",
      "\n",
      "           0       0.71      0.78      0.74      4010\n",
      "           1       0.75      0.68      0.71      3990\n",
      "\n",
      "   micro avg       0.73      0.73      0.73      8000\n",
      "   macro avg       0.73      0.73      0.73      8000\n",
      "weighted avg       0.73      0.73      0.73      8000\n",
      "\n",
      "Wall time: 439 ms\n"
     ]
    }
   ],
   "source": [
    "%%time\n",
    "# let's try how ensemling ( Random forest wit 10 decision trees ) performs \n",
    "random_forest = RandomForestClassifier(n_estimators=10)\n",
    "random_forest.fit(X_train, y_train)\n",
    "\n",
    "\n",
    "filepath = r'C:\\Users\\Adarsh\\uOttawa\\ML Course Project-7Apr\\saved_models\\fine_tuned\\random_forest_model'\n",
    "joblib.dump(random_forest ,filepath )\n",
    "\n",
    "print(\"Accuracy = \")\n",
    "print(random_forest.score(X_test, y_test))\n",
    "print(\"\\n\")\n",
    "y_pred_rf = random_forest.predict(X_test)\n",
    "print(classification_report(y_test, y_pred_rf))"
   ]
  },
  {
   "cell_type": "code",
   "execution_count": 11,
   "metadata": {},
   "outputs": [
    {
     "data": {
      "text/plain": [
       "(32000, 15)"
      ]
     },
     "execution_count": 11,
     "metadata": {},
     "output_type": "execute_result"
    }
   ],
   "source": [
    "X_train.shape"
   ]
  },
  {
   "cell_type": "code",
   "execution_count": 12,
   "metadata": {},
   "outputs": [
    {
     "name": "stdout",
     "output_type": "stream",
     "text": [
      "overall-ratings 0.04614813016576853\n",
      "helpful-count 0.04174047150759144\n",
      "post_day 0.1286263901373424\n",
      "post_month 0.09589620883420749\n",
      "post_year 0.07482617832737123\n",
      "company_amazon 0.011975029111791016\n",
      "company_apple 0.007840155907270933\n",
      "company_facebook 0.0027166217600624624\n",
      "company_google 0.006228107406380147\n",
      "company_microsoft 0.007835998511630252\n",
      "company_netflix 0.0022063379504235134\n",
      "job_title_num 0.08918137271534521\n",
      "feedback_word_count 0.15218368356058726\n",
      "avg_word_len 0.16891544129692837\n",
      "sentiment_score 0.1636798728072997\n"
     ]
    },
    {
     "data": {
      "application/vnd.plotly.v1+json": {
       "config": {
        "linkText": "Export to plot.ly",
        "plotlyServerURL": "https://plot.ly",
        "showLink": false
       },
       "data": [
        {
         "marker": {
          "color": "rgba(0,100,100, 0.5)",
          "line": {
           "width": 0.4
          }
         },
         "orientation": "h",
         "type": "bar",
         "uid": "ec954067-d1f2-4819-916a-dc2d49f2344b",
         "x": [
          0.04614813016576853,
          0.04174047150759144,
          0.1286263901373424,
          0.09589620883420749,
          0.07482617832737123,
          0.011975029111791016,
          0.007840155907270933,
          0.0027166217600624624,
          0.006228107406380147,
          0.007835998511630252,
          0.0022063379504235134,
          0.08918137271534521,
          0.15218368356058726,
          0.16891544129692837,
          0.1636798728072997
         ],
         "y": [
          "overall-ratings",
          "helpful-count",
          "post_day",
          "post_month",
          "post_year",
          "company_amazon",
          "company_apple",
          "company_facebook",
          "company_google",
          "company_microsoft",
          "company_netflix",
          "job_title_num",
          "feedback_word_count",
          "avg_word_len",
          "sentiment_score"
         ]
        }
       ],
       "layout": {
        "bargap": 0.1,
        "barmode": "group",
        "height": 500,
        "title": {
         "text": "Relative Importance of the Features in the Random Forest Classifier"
        },
        "width": 800
       }
      },
      "text/html": [
       "<div id=\"f1ba5369-b1c9-4c7d-85fe-60b6372af759\" style=\"height: 500px; width: 800px;\" class=\"plotly-graph-div\"></div><script type=\"text/javascript\">require([\"plotly\"], function(Plotly) { window.PLOTLYENV=window.PLOTLYENV || {};window.PLOTLYENV.BASE_URL=\"https://plot.ly\";\n",
       "if (document.getElementById(\"f1ba5369-b1c9-4c7d-85fe-60b6372af759\")) {\n",
       "    Plotly.newPlot(\"f1ba5369-b1c9-4c7d-85fe-60b6372af759\", [{\"marker\": {\"color\": \"rgba(0,100,100, 0.5)\", \"line\": {\"width\": 0.4}}, \"orientation\": \"h\", \"x\": [0.04614813016576853, 0.04174047150759144, 0.1286263901373424, 0.09589620883420749, 0.07482617832737123, 0.011975029111791016, 0.007840155907270933, 0.0027166217600624624, 0.006228107406380147, 0.007835998511630252, 0.0022063379504235134, 0.08918137271534521, 0.15218368356058726, 0.16891544129692837, 0.1636798728072997], \"y\": [\"overall-ratings\", \"helpful-count\", \"post_day\", \"post_month\", \"post_year\", \"company_amazon\", \"company_apple\", \"company_facebook\", \"company_google\", \"company_microsoft\", \"company_netflix\", \"job_title_num\", \"feedback_word_count\", \"avg_word_len\", \"sentiment_score\"], \"type\": \"bar\", \"uid\": \"ec954067-d1f2-4819-916a-dc2d49f2344b\"}], {\"bargap\": 0.1, \"barmode\": \"group\", \"height\": 500, \"title\": {\"text\": \"Relative Importance of the Features in the Random Forest Classifier\"}, \"width\": 800}, {\"showLink\": false, \"linkText\": \"Export to plot.ly\", \"plotlyServerURL\": \"https://plot.ly\"}); \n",
       "}\n",
       "});</script>"
      ],
      "text/vnd.plotly.v1+html": [
       "<div id=\"f1ba5369-b1c9-4c7d-85fe-60b6372af759\" style=\"height: 500px; width: 800px;\" class=\"plotly-graph-div\"></div><script type=\"text/javascript\">require([\"plotly\"], function(Plotly) { window.PLOTLYENV=window.PLOTLYENV || {};window.PLOTLYENV.BASE_URL=\"https://plot.ly\";\n",
       "if (document.getElementById(\"f1ba5369-b1c9-4c7d-85fe-60b6372af759\")) {\n",
       "    Plotly.newPlot(\"f1ba5369-b1c9-4c7d-85fe-60b6372af759\", [{\"marker\": {\"color\": \"rgba(0,100,100, 0.5)\", \"line\": {\"width\": 0.4}}, \"orientation\": \"h\", \"x\": [0.04614813016576853, 0.04174047150759144, 0.1286263901373424, 0.09589620883420749, 0.07482617832737123, 0.011975029111791016, 0.007840155907270933, 0.0027166217600624624, 0.006228107406380147, 0.007835998511630252, 0.0022063379504235134, 0.08918137271534521, 0.15218368356058726, 0.16891544129692837, 0.1636798728072997], \"y\": [\"overall-ratings\", \"helpful-count\", \"post_day\", \"post_month\", \"post_year\", \"company_amazon\", \"company_apple\", \"company_facebook\", \"company_google\", \"company_microsoft\", \"company_netflix\", \"job_title_num\", \"feedback_word_count\", \"avg_word_len\", \"sentiment_score\"], \"type\": \"bar\", \"uid\": \"ec954067-d1f2-4819-916a-dc2d49f2344b\"}], {\"bargap\": 0.1, \"barmode\": \"group\", \"height\": 500, \"title\": {\"text\": \"Relative Importance of the Features in the Random Forest Classifier\"}, \"width\": 800}, {\"showLink\": false, \"linkText\": \"Export to plot.ly\", \"plotlyServerURL\": \"https://plot.ly\"}); \n",
       "}\n",
       "});</script>"
      ]
     },
     "metadata": {},
     "output_type": "display_data"
    }
   ],
   "source": [
    "# As we our final chosen model is Random Forest which is performing better accuracy and execution time wise\n",
    "\n",
    "# let's fine tune it \n",
    "\n",
    "feature_name = []\n",
    "feautre_score = []\n",
    "\n",
    "for name, score in zip(X_train[features], random_forest.feature_importances_):\n",
    "    feature_name.append(name)\n",
    "    feautre_score.append(score)\n",
    "    print(name, score)\n",
    "\n",
    "    \n",
    "data = go.Bar( y = feature_name, x = feautre_score,   orientation = 'h',\n",
    "    marker = dict(color = 'rgba(0,100,100, 0.5)', line = dict(width = 0.4)))\n",
    "\n",
    "data = [data]\n",
    "layout = go.Layout(title = 'Relative Importance of the Features in the Random Forest Classifier',\n",
    "    barmode='group', bargap=0.1, width=800,height=500,)\n",
    "\n",
    "fig = go.Figure(data=data, layout=layout)\n",
    "iplot(fig)\n"
   ]
  },
  {
   "cell_type": "markdown",
   "metadata": {},
   "source": [
    "# # Random Forest AFter highly correlated features removed and less important features removed\n"
   ]
  },
  {
   "cell_type": "code",
   "execution_count": 13,
   "metadata": {},
   "outputs": [],
   "source": [
    "# Drop some of columns which have high- correlation\n",
    "X = df[['overall-ratings', 'helpful-count', 'post_day',\n",
    "       'post_month', 'post_year', 'job_title_num',\n",
    "       'feedback_word_count', 'avg_word_len', 'sentiment_score']]\n",
    "\n",
    "Y = df['job_status']\n",
    "\n"
   ]
  },
  {
   "cell_type": "code",
   "execution_count": 14,
   "metadata": {},
   "outputs": [],
   "source": [
    "X_train, X_test, y_train, y_test = train_test_split(X, Y, test_size = 0.2 , random_state = 4)"
   ]
  },
  {
   "cell_type": "code",
   "execution_count": 15,
   "metadata": {},
   "outputs": [
    {
     "data": {
      "text/plain": [
       "(32000, 9)"
      ]
     },
     "execution_count": 15,
     "metadata": {},
     "output_type": "execute_result"
    }
   ],
   "source": [
    "X_train.shape"
   ]
  },
  {
   "cell_type": "code",
   "execution_count": 16,
   "metadata": {},
   "outputs": [
    {
     "name": "stdout",
     "output_type": "stream",
     "text": [
      "Accuracy = \n",
      "0.722125\n",
      "\n",
      "\n",
      "              precision    recall  f1-score   support\n",
      "\n",
      "           0       0.70      0.77      0.74      4010\n",
      "           1       0.75      0.67      0.71      3990\n",
      "\n",
      "   micro avg       0.72      0.72      0.72      8000\n",
      "   macro avg       0.72      0.72      0.72      8000\n",
      "weighted avg       0.72      0.72      0.72      8000\n",
      "\n",
      "Wall time: 498 ms\n"
     ]
    }
   ],
   "source": [
    "%%time\n",
    "\n",
    "random_forest = RandomForestClassifier(n_estimators=10)\n",
    "random_forest.fit(X_train, y_train)\n",
    "\n",
    "filepath = r'C:\\Users\\Adarsh\\uOttawa\\ML Course Project-7Apr\\saved_models\\fine_tuned\\random_forest_final'\n",
    "joblib.dump(random_forest ,filepath )\n",
    "\n",
    "print(\"Accuracy = \")\n",
    "print(random_forest.score(X_test, y_test))\n",
    "print(\"\\n\")\n",
    "y_pred_rf = random_forest.predict(X_test)\n",
    "print(classification_report(y_test, y_pred_rf))"
   ]
  }
 ],
 "metadata": {
  "kernelspec": {
   "display_name": "Python 3",
   "language": "python",
   "name": "python3"
  },
  "language_info": {
   "codemirror_mode": {
    "name": "ipython",
    "version": 3
   },
   "file_extension": ".py",
   "mimetype": "text/x-python",
   "name": "python",
   "nbconvert_exporter": "python",
   "pygments_lexer": "ipython3",
   "version": "3.6.6"
  }
 },
 "nbformat": 4,
 "nbformat_minor": 2
}
