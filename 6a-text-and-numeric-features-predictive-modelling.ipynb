{
 "cells": [
  {
   "cell_type": "code",
   "execution_count": 1,
   "metadata": {},
   "outputs": [],
   "source": [
    "# Reference https://www.youtube.com/watch?v=gCWBFyFTxVU\n",
    "# Dataset https://www.kaggle.com/mlg-ulb/creditcardfraud\n",
    "\n",
    "import pandas as pd\n",
    "import matplotlib.pyplot as plt\n",
    "from matplotlib import pyplot\n",
    "\n",
    "import numpy as np\n",
    "import seaborn as sns\n",
    "\n",
    "# ml models decistion tree\n",
    "from sklearn.tree import DecisionTreeClassifier\n",
    "\n",
    "# One of the Ensemle model -- Random Forset which is ensemple of decision trees\n",
    "from sklearn.ensemble import RandomForestClassifier, BaggingClassifier, AdaBoostClassifier, VotingClassifier\n",
    "\n",
    "# import logistic regression, SVC  for ensembling\n",
    "from sklearn.linear_model import LogisticRegression\n",
    "from sklearn.svm import SVC, LinearSVC\n",
    "\n",
    "# Naive Bayes\n",
    "from sklearn.naive_bayes import MultinomialNB\n",
    "\n",
    "# Distance based\n",
    "from sklearn.neighbors import KNeighborsClassifier\n",
    "\n",
    "# packages for metric for evalaution of the models\n",
    "from sklearn import metrics\n",
    "from sklearn.metrics import classification_report , accuracy_score, confusion_matrix\n",
    "\n",
    "# to save the models so that we don't need to train the models every time we need to do prediction\n",
    "from sklearn.externals import joblib\n",
    "\n",
    "# Rule based classifier\n",
    "from sklearn.dummy import DummyClassifier\n",
    "\n",
    "# let's do some moedelling\n",
    "from sklearn.model_selection import train_test_split, cross_val_score\n",
    "\n"
   ]
  },
  {
   "cell_type": "code",
   "execution_count": 2,
   "metadata": {},
   "outputs": [],
   "source": [
    "df_numeric = pd.read_csv(r'C:\\Users\\Adarsh\\uOttawa\\ML Course Project-7Apr\\datasets\\2_numeric_data.csv')\n",
    "df_text = pd.read_csv(r'C:\\Users\\Adarsh\\uOttawa\\ML Course Project-7Apr\\datasets\\4a-after-text-cleaning.csv')"
   ]
  },
  {
   "cell_type": "code",
   "execution_count": 3,
   "metadata": {},
   "outputs": [
    {
     "data": {
      "text/plain": [
       "Index(['overall-ratings', 'work-balance-stars', 'culture-values-stars',\n",
       "       'carrer-opportunities-stars', 'comp-benefit-stars',\n",
       "       'senior-mangemnet-stars', 'helpful-count', 'job_status', 'post_day',\n",
       "       'post_month', 'post_year', 'company_amazon', 'company_apple',\n",
       "       'company_facebook', 'company_google', 'company_microsoft',\n",
       "       'company_netflix', 'job_title_num', 'location_num'],\n",
       "      dtype='object')"
      ]
     },
     "execution_count": 3,
     "metadata": {},
     "output_type": "execute_result"
    }
   ],
   "source": [
    "df_numeric.columns"
   ]
  },
  {
   "cell_type": "code",
   "execution_count": 4,
   "metadata": {},
   "outputs": [
    {
     "data": {
      "text/plain": [
       "Index(['feedback', 'job_status', 'feedback_word_count', 'avg_word_len',\n",
       "       'sentiment_score', 'sentiment', 'feedback1'],\n",
       "      dtype='object')"
      ]
     },
     "execution_count": 4,
     "metadata": {},
     "output_type": "execute_result"
    }
   ],
   "source": [
    "df_text.columns"
   ]
  },
  {
   "cell_type": "code",
   "execution_count": 5,
   "metadata": {},
   "outputs": [
    {
     "data": {
      "text/plain": [
       " 0.000000    720\n",
       " 0.500000    534\n",
       " 0.700000    396\n",
       " 0.400000    369\n",
       " 0.800000    346\n",
       " 0.600000    311\n",
       " 0.300000    264\n",
       " 0.250000    241\n",
       " 0.200000    235\n",
       " 0.350000    214\n",
       " 0.450000    203\n",
       " 0.750000    164\n",
       " 0.375000    163\n",
       " 1.000000    161\n",
       " 0.533333    142\n",
       " 0.650000    141\n",
       " 0.425000    137\n",
       " 0.333333    132\n",
       " 0.266667    126\n",
       " 0.433333    121\n",
       " 0.325000    118\n",
       " 0.166667    109\n",
       " 0.550000    109\n",
       " 0.100000    107\n",
       " 0.233333    107\n",
       " 0.275000    103\n",
       " 0.466667    101\n",
       " 0.366667     99\n",
       " 0.625000     98\n",
       " 0.475000     95\n",
       "            ... \n",
       " 0.336335      1\n",
       " 0.258438      1\n",
       " 0.085714      1\n",
       " 0.275847      1\n",
       " 0.392041      1\n",
       " 0.052219      1\n",
       " 0.219940      1\n",
       " 0.322841      1\n",
       " 0.198452      1\n",
       " 0.252967      1\n",
       " 0.111565      1\n",
       " 0.216698      1\n",
       " 0.280128      1\n",
       " 0.441151      1\n",
       " 0.137290      1\n",
       " 0.273631      1\n",
       " 0.483704      1\n",
       " 0.156544      1\n",
       " 0.460938      1\n",
       " 0.484375      1\n",
       " 0.126904      1\n",
       " 0.301905      1\n",
       " 0.236333      1\n",
       " 0.276042      1\n",
       " 0.079305      1\n",
       " 0.356205      1\n",
       " 0.085283      1\n",
       " 0.283607      1\n",
       " 0.283766      1\n",
       "-0.046875      1\n",
       "Name: sentiment_score, Length: 15293, dtype: int64"
      ]
     },
     "execution_count": 5,
     "metadata": {},
     "output_type": "execute_result"
    }
   ],
   "source": [
    "df_text.sentiment_score.value_counts()"
   ]
  },
  {
   "cell_type": "code",
   "execution_count": 6,
   "metadata": {},
   "outputs": [
    {
     "data": {
      "text/plain": [
       "(40000, 22)"
      ]
     },
     "execution_count": 6,
     "metadata": {},
     "output_type": "execute_result"
    }
   ],
   "source": [
    "# stack the DataFrames on top of each other/ Merge datasets row -wise \n",
    "df1 = df_numeric\n",
    "df2 = df_text[[ 'feedback_word_count', 'avg_word_len', 'sentiment_score' ]]\n",
    "\n",
    "# concat column wise so axis would 1\n",
    "df = pd.concat([df1, df2], axis=1)\n",
    "df.shape"
   ]
  },
  {
   "cell_type": "code",
   "execution_count": 7,
   "metadata": {},
   "outputs": [
    {
     "data": {
      "text/html": [
       "<div>\n",
       "<style scoped>\n",
       "    .dataframe tbody tr th:only-of-type {\n",
       "        vertical-align: middle;\n",
       "    }\n",
       "\n",
       "    .dataframe tbody tr th {\n",
       "        vertical-align: top;\n",
       "    }\n",
       "\n",
       "    .dataframe thead th {\n",
       "        text-align: right;\n",
       "    }\n",
       "</style>\n",
       "<table border=\"1\" class=\"dataframe\">\n",
       "  <thead>\n",
       "    <tr style=\"text-align: right;\">\n",
       "      <th></th>\n",
       "      <th>overall-ratings</th>\n",
       "      <th>work-balance-stars</th>\n",
       "      <th>culture-values-stars</th>\n",
       "      <th>carrer-opportunities-stars</th>\n",
       "      <th>comp-benefit-stars</th>\n",
       "      <th>senior-mangemnet-stars</th>\n",
       "      <th>helpful-count</th>\n",
       "      <th>job_status</th>\n",
       "      <th>post_day</th>\n",
       "      <th>post_month</th>\n",
       "      <th>...</th>\n",
       "      <th>company_apple</th>\n",
       "      <th>company_facebook</th>\n",
       "      <th>company_google</th>\n",
       "      <th>company_microsoft</th>\n",
       "      <th>company_netflix</th>\n",
       "      <th>job_title_num</th>\n",
       "      <th>location_num</th>\n",
       "      <th>feedback_word_count</th>\n",
       "      <th>avg_word_len</th>\n",
       "      <th>sentiment_score</th>\n",
       "    </tr>\n",
       "  </thead>\n",
       "  <tbody>\n",
       "    <tr>\n",
       "      <th>0</th>\n",
       "      <td>4.0</td>\n",
       "      <td>4.0</td>\n",
       "      <td>2.5</td>\n",
       "      <td>4.0</td>\n",
       "      <td>4.5</td>\n",
       "      <td>4.0</td>\n",
       "      <td>0</td>\n",
       "      <td>0</td>\n",
       "      <td>20</td>\n",
       "      <td>3</td>\n",
       "      <td>...</td>\n",
       "      <td>0</td>\n",
       "      <td>0</td>\n",
       "      <td>0</td>\n",
       "      <td>0</td>\n",
       "      <td>0</td>\n",
       "      <td>0.00040</td>\n",
       "      <td>0.068375</td>\n",
       "      <td>88</td>\n",
       "      <td>4.534091</td>\n",
       "      <td>0.124329</td>\n",
       "    </tr>\n",
       "    <tr>\n",
       "      <th>1</th>\n",
       "      <td>5.0</td>\n",
       "      <td>5.0</td>\n",
       "      <td>5.0</td>\n",
       "      <td>5.0</td>\n",
       "      <td>5.0</td>\n",
       "      <td>5.0</td>\n",
       "      <td>0</td>\n",
       "      <td>0</td>\n",
       "      <td>31</td>\n",
       "      <td>10</td>\n",
       "      <td>...</td>\n",
       "      <td>1</td>\n",
       "      <td>0</td>\n",
       "      <td>0</td>\n",
       "      <td>0</td>\n",
       "      <td>0</td>\n",
       "      <td>0.00005</td>\n",
       "      <td>0.018650</td>\n",
       "      <td>104</td>\n",
       "      <td>4.336538</td>\n",
       "      <td>0.448133</td>\n",
       "    </tr>\n",
       "    <tr>\n",
       "      <th>2</th>\n",
       "      <td>5.0</td>\n",
       "      <td>3.0</td>\n",
       "      <td>5.0</td>\n",
       "      <td>5.0</td>\n",
       "      <td>5.0</td>\n",
       "      <td>5.0</td>\n",
       "      <td>1</td>\n",
       "      <td>0</td>\n",
       "      <td>16</td>\n",
       "      <td>4</td>\n",
       "      <td>...</td>\n",
       "      <td>0</td>\n",
       "      <td>0</td>\n",
       "      <td>0</td>\n",
       "      <td>0</td>\n",
       "      <td>0</td>\n",
       "      <td>0.41015</td>\n",
       "      <td>0.377600</td>\n",
       "      <td>151</td>\n",
       "      <td>4.516556</td>\n",
       "      <td>0.373810</td>\n",
       "    </tr>\n",
       "    <tr>\n",
       "      <th>3</th>\n",
       "      <td>3.0</td>\n",
       "      <td>2.0</td>\n",
       "      <td>2.0</td>\n",
       "      <td>3.0</td>\n",
       "      <td>4.0</td>\n",
       "      <td>2.0</td>\n",
       "      <td>2</td>\n",
       "      <td>0</td>\n",
       "      <td>3</td>\n",
       "      <td>1</td>\n",
       "      <td>...</td>\n",
       "      <td>0</td>\n",
       "      <td>0</td>\n",
       "      <td>0</td>\n",
       "      <td>0</td>\n",
       "      <td>0</td>\n",
       "      <td>0.00050</td>\n",
       "      <td>0.068375</td>\n",
       "      <td>153</td>\n",
       "      <td>4.895425</td>\n",
       "      <td>0.199087</td>\n",
       "    </tr>\n",
       "    <tr>\n",
       "      <th>4</th>\n",
       "      <td>5.0</td>\n",
       "      <td>5.0</td>\n",
       "      <td>5.0</td>\n",
       "      <td>5.0</td>\n",
       "      <td>5.0</td>\n",
       "      <td>5.0</td>\n",
       "      <td>0</td>\n",
       "      <td>0</td>\n",
       "      <td>27</td>\n",
       "      <td>12</td>\n",
       "      <td>...</td>\n",
       "      <td>0</td>\n",
       "      <td>0</td>\n",
       "      <td>0</td>\n",
       "      <td>0</td>\n",
       "      <td>0</td>\n",
       "      <td>0.41015</td>\n",
       "      <td>0.377600</td>\n",
       "      <td>27</td>\n",
       "      <td>6.370370</td>\n",
       "      <td>0.480000</td>\n",
       "    </tr>\n",
       "  </tbody>\n",
       "</table>\n",
       "<p>5 rows × 22 columns</p>\n",
       "</div>"
      ],
      "text/plain": [
       "   overall-ratings  work-balance-stars  culture-values-stars  \\\n",
       "0              4.0                 4.0                   2.5   \n",
       "1              5.0                 5.0                   5.0   \n",
       "2              5.0                 3.0                   5.0   \n",
       "3              3.0                 2.0                   2.0   \n",
       "4              5.0                 5.0                   5.0   \n",
       "\n",
       "   carrer-opportunities-stars  comp-benefit-stars  senior-mangemnet-stars  \\\n",
       "0                         4.0                 4.5                     4.0   \n",
       "1                         5.0                 5.0                     5.0   \n",
       "2                         5.0                 5.0                     5.0   \n",
       "3                         3.0                 4.0                     2.0   \n",
       "4                         5.0                 5.0                     5.0   \n",
       "\n",
       "   helpful-count  job_status  post_day  post_month       ...         \\\n",
       "0              0           0        20           3       ...          \n",
       "1              0           0        31          10       ...          \n",
       "2              1           0        16           4       ...          \n",
       "3              2           0         3           1       ...          \n",
       "4              0           0        27          12       ...          \n",
       "\n",
       "   company_apple  company_facebook  company_google  company_microsoft  \\\n",
       "0              0                 0               0                  0   \n",
       "1              1                 0               0                  0   \n",
       "2              0                 0               0                  0   \n",
       "3              0                 0               0                  0   \n",
       "4              0                 0               0                  0   \n",
       "\n",
       "   company_netflix  job_title_num  location_num  feedback_word_count  \\\n",
       "0                0        0.00040      0.068375                   88   \n",
       "1                0        0.00005      0.018650                  104   \n",
       "2                0        0.41015      0.377600                  151   \n",
       "3                0        0.00050      0.068375                  153   \n",
       "4                0        0.41015      0.377600                   27   \n",
       "\n",
       "   avg_word_len  sentiment_score  \n",
       "0      4.534091         0.124329  \n",
       "1      4.336538         0.448133  \n",
       "2      4.516556         0.373810  \n",
       "3      4.895425         0.199087  \n",
       "4      6.370370         0.480000  \n",
       "\n",
       "[5 rows x 22 columns]"
      ]
     },
     "execution_count": 7,
     "metadata": {},
     "output_type": "execute_result"
    }
   ],
   "source": [
    "df.head(5)"
   ]
  },
  {
   "cell_type": "code",
   "execution_count": 8,
   "metadata": {},
   "outputs": [],
   "source": [
    "# save data for any future processing\n",
    "df.to_csv(r'C:\\Users\\Adarsh\\uOttawa\\ML Course Project-7Apr\\datasets\\6a-combined-text-numeric.csv', \n",
    "                    index=False)"
   ]
  },
  {
   "cell_type": "code",
   "execution_count": 9,
   "metadata": {},
   "outputs": [
    {
     "data": {
      "text/plain": [
       "1    20000\n",
       "0    20000\n",
       "Name: job_status, dtype: int64"
      ]
     },
     "execution_count": 9,
     "metadata": {},
     "output_type": "execute_result"
    }
   ],
   "source": [
    "# check for class imbalance problem\n",
    "df.job_status.value_counts()\n"
   ]
  },
  {
   "cell_type": "code",
   "execution_count": 10,
   "metadata": {
    "scrolled": true
   },
   "outputs": [
    {
     "data": {
      "text/plain": [
       "22"
      ]
     },
     "execution_count": 10,
     "metadata": {},
     "output_type": "execute_result"
    }
   ],
   "source": [
    "df.columns.value_counts().sum()"
   ]
  },
  {
   "cell_type": "code",
   "execution_count": 11,
   "metadata": {},
   "outputs": [],
   "source": [
    "# prepare for training\n",
    "X = df[['overall-ratings', 'work-balance-stars', 'culture-values-stars',\n",
    "       'carrer-opportunities-stars', 'comp-benefit-stars',\n",
    "       'senior-mangemnet-stars', 'helpful-count', 'post_day',\n",
    "       'post_month', 'post_year', 'company_amazon', 'company_apple',\n",
    "       'company_facebook', 'company_google', 'company_microsoft',\n",
    "       'company_netflix', 'job_title_num', 'location_num',\n",
    "       'feedback_word_count', 'avg_word_len', 'sentiment_score']]\n",
    "\n",
    "Y = df['job_status']\n"
   ]
  },
  {
   "cell_type": "code",
   "execution_count": 12,
   "metadata": {
    "scrolled": true
   },
   "outputs": [
    {
     "data": {
      "text/html": [
       "<div>\n",
       "<style scoped>\n",
       "    .dataframe tbody tr th:only-of-type {\n",
       "        vertical-align: middle;\n",
       "    }\n",
       "\n",
       "    .dataframe tbody tr th {\n",
       "        vertical-align: top;\n",
       "    }\n",
       "\n",
       "    .dataframe thead th {\n",
       "        text-align: right;\n",
       "    }\n",
       "</style>\n",
       "<table border=\"1\" class=\"dataframe\">\n",
       "  <thead>\n",
       "    <tr style=\"text-align: right;\">\n",
       "      <th></th>\n",
       "      <th>overall-ratings</th>\n",
       "      <th>work-balance-stars</th>\n",
       "      <th>culture-values-stars</th>\n",
       "      <th>carrer-opportunities-stars</th>\n",
       "      <th>comp-benefit-stars</th>\n",
       "      <th>senior-mangemnet-stars</th>\n",
       "      <th>helpful-count</th>\n",
       "      <th>post_day</th>\n",
       "      <th>post_month</th>\n",
       "      <th>post_year</th>\n",
       "      <th>...</th>\n",
       "      <th>company_apple</th>\n",
       "      <th>company_facebook</th>\n",
       "      <th>company_google</th>\n",
       "      <th>company_microsoft</th>\n",
       "      <th>company_netflix</th>\n",
       "      <th>job_title_num</th>\n",
       "      <th>location_num</th>\n",
       "      <th>feedback_word_count</th>\n",
       "      <th>avg_word_len</th>\n",
       "      <th>sentiment_score</th>\n",
       "    </tr>\n",
       "  </thead>\n",
       "  <tbody>\n",
       "    <tr>\n",
       "      <th>0</th>\n",
       "      <td>4.0</td>\n",
       "      <td>4.0</td>\n",
       "      <td>2.5</td>\n",
       "      <td>4.0</td>\n",
       "      <td>4.5</td>\n",
       "      <td>4.0</td>\n",
       "      <td>0</td>\n",
       "      <td>20</td>\n",
       "      <td>3</td>\n",
       "      <td>2010</td>\n",
       "      <td>...</td>\n",
       "      <td>0</td>\n",
       "      <td>0</td>\n",
       "      <td>0</td>\n",
       "      <td>0</td>\n",
       "      <td>0</td>\n",
       "      <td>0.00040</td>\n",
       "      <td>0.068375</td>\n",
       "      <td>88</td>\n",
       "      <td>4.534091</td>\n",
       "      <td>0.124329</td>\n",
       "    </tr>\n",
       "    <tr>\n",
       "      <th>1</th>\n",
       "      <td>5.0</td>\n",
       "      <td>5.0</td>\n",
       "      <td>5.0</td>\n",
       "      <td>5.0</td>\n",
       "      <td>5.0</td>\n",
       "      <td>5.0</td>\n",
       "      <td>0</td>\n",
       "      <td>31</td>\n",
       "      <td>10</td>\n",
       "      <td>2014</td>\n",
       "      <td>...</td>\n",
       "      <td>1</td>\n",
       "      <td>0</td>\n",
       "      <td>0</td>\n",
       "      <td>0</td>\n",
       "      <td>0</td>\n",
       "      <td>0.00005</td>\n",
       "      <td>0.018650</td>\n",
       "      <td>104</td>\n",
       "      <td>4.336538</td>\n",
       "      <td>0.448133</td>\n",
       "    </tr>\n",
       "  </tbody>\n",
       "</table>\n",
       "<p>2 rows × 21 columns</p>\n",
       "</div>"
      ],
      "text/plain": [
       "   overall-ratings  work-balance-stars  culture-values-stars  \\\n",
       "0              4.0                 4.0                   2.5   \n",
       "1              5.0                 5.0                   5.0   \n",
       "\n",
       "   carrer-opportunities-stars  comp-benefit-stars  senior-mangemnet-stars  \\\n",
       "0                         4.0                 4.5                     4.0   \n",
       "1                         5.0                 5.0                     5.0   \n",
       "\n",
       "   helpful-count  post_day  post_month  post_year       ...         \\\n",
       "0              0        20           3       2010       ...          \n",
       "1              0        31          10       2014       ...          \n",
       "\n",
       "   company_apple  company_facebook  company_google  company_microsoft  \\\n",
       "0              0                 0               0                  0   \n",
       "1              1                 0               0                  0   \n",
       "\n",
       "   company_netflix  job_title_num  location_num  feedback_word_count  \\\n",
       "0                0        0.00040      0.068375                   88   \n",
       "1                0        0.00005      0.018650                  104   \n",
       "\n",
       "   avg_word_len  sentiment_score  \n",
       "0      4.534091         0.124329  \n",
       "1      4.336538         0.448133  \n",
       "\n",
       "[2 rows x 21 columns]"
      ]
     },
     "execution_count": 12,
     "metadata": {},
     "output_type": "execute_result"
    }
   ],
   "source": [
    "X.head(2)"
   ]
  },
  {
   "cell_type": "code",
   "execution_count": 13,
   "metadata": {},
   "outputs": [
    {
     "name": "stderr",
     "output_type": "stream",
     "text": [
      "C:\\ProgramData\\Anaconda3\\lib\\site-packages\\sklearn\\preprocessing\\data.py:323: DataConversionWarning: Data with input dtype int64, float64 were all converted to float64 by MinMaxScaler.\n",
      "  return self.partial_fit(X, y)\n"
     ]
    }
   ],
   "source": [
    "# As X has negtaive values and Multinomial NB doesnt work with negative values we need to scale the data to 0 to 1\n",
    "from sklearn.preprocessing import MinMaxScaler\n",
    "data = X\n",
    "scaler = MinMaxScaler()\n",
    "scaler.fit(data)\n",
    "MinMaxScaler(copy=True, feature_range=(0, 1))\n",
    "\n",
    "scaler.transform(data)\n",
    "\n",
    "# Assign the data to X (our input variables)\n",
    "X = data\n"
   ]
  },
  {
   "cell_type": "code",
   "execution_count": 14,
   "metadata": {},
   "outputs": [
    {
     "name": "stderr",
     "output_type": "stream",
     "text": [
      "C:\\ProgramData\\Anaconda3\\lib\\site-packages\\sklearn\\linear_model\\logistic.py:433: FutureWarning: Default solver will be changed to 'lbfgs' in 0.22. Specify a solver to silence this warning.\n",
      "  FutureWarning)\n",
      "C:\\ProgramData\\Anaconda3\\lib\\site-packages\\sklearn\\linear_model\\logistic.py:433: FutureWarning: Default solver will be changed to 'lbfgs' in 0.22. Specify a solver to silence this warning.\n",
      "  FutureWarning)\n",
      "C:\\ProgramData\\Anaconda3\\lib\\site-packages\\sklearn\\linear_model\\logistic.py:433: FutureWarning: Default solver will be changed to 'lbfgs' in 0.22. Specify a solver to silence this warning.\n",
      "  FutureWarning)\n",
      "C:\\ProgramData\\Anaconda3\\lib\\site-packages\\sklearn\\linear_model\\logistic.py:433: FutureWarning: Default solver will be changed to 'lbfgs' in 0.22. Specify a solver to silence this warning.\n",
      "  FutureWarning)\n",
      "C:\\ProgramData\\Anaconda3\\lib\\site-packages\\sklearn\\linear_model\\logistic.py:433: FutureWarning: Default solver will be changed to 'lbfgs' in 0.22. Specify a solver to silence this warning.\n",
      "  FutureWarning)\n",
      "C:\\ProgramData\\Anaconda3\\lib\\site-packages\\sklearn\\linear_model\\logistic.py:433: FutureWarning: Default solver will be changed to 'lbfgs' in 0.22. Specify a solver to silence this warning.\n",
      "  FutureWarning)\n",
      "C:\\ProgramData\\Anaconda3\\lib\\site-packages\\sklearn\\linear_model\\logistic.py:433: FutureWarning: Default solver will be changed to 'lbfgs' in 0.22. Specify a solver to silence this warning.\n",
      "  FutureWarning)\n",
      "C:\\ProgramData\\Anaconda3\\lib\\site-packages\\sklearn\\svm\\base.py:922: ConvergenceWarning: Liblinear failed to converge, increase the number of iterations.\n",
      "  \"the number of iterations.\", ConvergenceWarning)\n",
      "C:\\ProgramData\\Anaconda3\\lib\\site-packages\\sklearn\\linear_model\\logistic.py:433: FutureWarning: Default solver will be changed to 'lbfgs' in 0.22. Specify a solver to silence this warning.\n",
      "  FutureWarning)\n",
      "C:\\ProgramData\\Anaconda3\\lib\\site-packages\\sklearn\\linear_model\\logistic.py:433: FutureWarning: Default solver will be changed to 'lbfgs' in 0.22. Specify a solver to silence this warning.\n",
      "  FutureWarning)\n",
      "C:\\ProgramData\\Anaconda3\\lib\\site-packages\\sklearn\\linear_model\\logistic.py:433: FutureWarning: Default solver will be changed to 'lbfgs' in 0.22. Specify a solver to silence this warning.\n",
      "  FutureWarning)\n",
      "C:\\ProgramData\\Anaconda3\\lib\\site-packages\\sklearn\\svm\\base.py:922: ConvergenceWarning: Liblinear failed to converge, increase the number of iterations.\n",
      "  \"the number of iterations.\", ConvergenceWarning)\n",
      "C:\\ProgramData\\Anaconda3\\lib\\site-packages\\sklearn\\svm\\base.py:922: ConvergenceWarning: Liblinear failed to converge, increase the number of iterations.\n",
      "  \"the number of iterations.\", ConvergenceWarning)\n",
      "C:\\ProgramData\\Anaconda3\\lib\\site-packages\\sklearn\\svm\\base.py:922: ConvergenceWarning: Liblinear failed to converge, increase the number of iterations.\n",
      "  \"the number of iterations.\", ConvergenceWarning)\n",
      "C:\\ProgramData\\Anaconda3\\lib\\site-packages\\sklearn\\svm\\base.py:922: ConvergenceWarning: Liblinear failed to converge, increase the number of iterations.\n",
      "  \"the number of iterations.\", ConvergenceWarning)\n",
      "C:\\ProgramData\\Anaconda3\\lib\\site-packages\\sklearn\\svm\\base.py:922: ConvergenceWarning: Liblinear failed to converge, increase the number of iterations.\n",
      "  \"the number of iterations.\", ConvergenceWarning)\n",
      "C:\\ProgramData\\Anaconda3\\lib\\site-packages\\sklearn\\svm\\base.py:922: ConvergenceWarning: Liblinear failed to converge, increase the number of iterations.\n",
      "  \"the number of iterations.\", ConvergenceWarning)\n",
      "C:\\ProgramData\\Anaconda3\\lib\\site-packages\\sklearn\\svm\\base.py:922: ConvergenceWarning: Liblinear failed to converge, increase the number of iterations.\n",
      "  \"the number of iterations.\", ConvergenceWarning)\n",
      "C:\\ProgramData\\Anaconda3\\lib\\site-packages\\sklearn\\svm\\base.py:922: ConvergenceWarning: Liblinear failed to converge, increase the number of iterations.\n",
      "  \"the number of iterations.\", ConvergenceWarning)\n",
      "C:\\ProgramData\\Anaconda3\\lib\\site-packages\\sklearn\\svm\\base.py:922: ConvergenceWarning: Liblinear failed to converge, increase the number of iterations.\n",
      "  \"the number of iterations.\", ConvergenceWarning)\n",
      "C:\\ProgramData\\Anaconda3\\lib\\site-packages\\sklearn\\svm\\base.py:922: ConvergenceWarning: Liblinear failed to converge, increase the number of iterations.\n",
      "  \"the number of iterations.\", ConvergenceWarning)\n"
     ]
    },
    {
     "name": "stdout",
     "output_type": "stream",
     "text": [
      "model_name\n",
      "DecisionTreeClassifier    0.736300\n",
      "DummyClassifier           0.501925\n",
      "KNeighborsClassifier      0.614900\n",
      "LinearSVC                 0.500475\n",
      "LogisticRegression        0.592725\n",
      "Name: accuracy, dtype: float64\n",
      "Wall time: 1min 6s\n"
     ]
    }
   ],
   "source": [
    "%%time\n",
    "\n",
    "# all required types of models\n",
    "models = [\n",
    "    # a. Linear classifier\n",
    "    LogisticRegression(),\n",
    "    LinearSVC(),\n",
    "    \n",
    "    # b. Tree-based models\n",
    "    DecisionTreeClassifier(),\n",
    "    \n",
    "    # c. Distance-based models \n",
    "    KNeighborsClassifier(n_neighbors=5),\n",
    "    \n",
    "    # d. Rule-based\n",
    "    DummyClassifier(),\n",
    "    \n",
    "    # e. Probabilistic model\n",
    "    #MultinomialNB()\n",
    "    \n",
    "]\n",
    "\n",
    "# define 10 cross validation\n",
    "CV = 10\n",
    "cv_df = pd.DataFrame(index=range(CV * len(models)))\n",
    "entries = []\n",
    "\n",
    "for model in models:\n",
    "  model_name = model.__class__.__name__\n",
    "  accuracies = cross_val_score(model, X, Y, scoring='accuracy', cv=CV)\n",
    "    \n",
    "  for fold_idx, accuracy in enumerate(accuracies):\n",
    "    entries.append((model_name, fold_idx, accuracy))\n",
    "\n",
    "cv_df = pd.DataFrame(entries, columns=['model_name', 'fold_idx', 'accuracy'])\n",
    "print(cv_df.groupby('model_name').accuracy.mean())\n"
   ]
  },
  {
   "cell_type": "code",
   "execution_count": 15,
   "metadata": {},
   "outputs": [],
   "source": [
    "X_train, X_test, y_train, y_test = train_test_split(X, Y, test_size = 0.2 , random_state = 4)"
   ]
  },
  {
   "cell_type": "code",
   "execution_count": 16,
   "metadata": {},
   "outputs": [
    {
     "name": "stdout",
     "output_type": "stream",
     "text": [
      "Accuracy = \n",
      "0.73375\n",
      "\n",
      "\n",
      "              precision    recall  f1-score   support\n",
      "\n",
      "           0       0.72      0.78      0.75      4010\n",
      "           1       0.76      0.69      0.72      3990\n",
      "\n",
      "   micro avg       0.73      0.73      0.73      8000\n",
      "   macro avg       0.74      0.73      0.73      8000\n",
      "weighted avg       0.74      0.73      0.73      8000\n",
      "\n",
      "Wall time: 454 ms\n"
     ]
    }
   ],
   "source": [
    "%%time\n",
    "# let's try how ensemling ( Random forest wit 10 decision trees ) performs \n",
    "random_forest = RandomForestClassifier(n_estimators=10)\n",
    "random_forest.fit(X_train, y_train)\n",
    "\n",
    "\n",
    "filepath = r'C:\\Users\\Adarsh\\uOttawa\\ML Course Project-7Apr\\saved_models\\combined-data\\random_forest_model'\n",
    "joblib.dump(random_forest ,filepath )\n",
    "# load model for prediction\n",
    "#random_forest = joblib.load(filepath)\n",
    "\n",
    "print(\"Accuracy = \")\n",
    "print(random_forest.score(X_test, y_test))\n",
    "print(\"\\n\")\n",
    "y_pred_rf = random_forest.predict(X_test)\n",
    "print(classification_report(y_test, y_pred_rf))"
   ]
  },
  {
   "cell_type": "code",
   "execution_count": 119,
   "metadata": {},
   "outputs": [
    {
     "name": "stdout",
     "output_type": "stream",
     "text": [
      "AUC = 0.7398714991968699\n"
     ]
    },
    {
     "data": {
      "image/png": "[encoded data removed]",
      "text/plain": [
       "<Figure size 432x288 with 1 Axes>"
      ]
     },
     "metadata": {
      "needs_background": "light"
     },
     "output_type": "display_data"
    }
   ],
   "source": [
    "# calculaye fpr, tpr\n",
    "fpr_rf, tpr_rf, thresholds_rf = metrics.roc_curve(y_test,  y_pred_rf)\n",
    "# calculate Area Under the curve\n",
    "auc_rf = metrics.roc_auc_score(y_test, y_pred_rf)\n",
    "\n",
    "print(\"AUC = \" + str(auc_rf))\n",
    "\n",
    "# plot\n",
    "pyplot.plot([0, 1], [0, 1], linestyle='--')\n",
    "# plot the roc curve for the model\n",
    "pyplot.plot(fpr_rf, tpr_rf, marker='.')\n",
    "# show the plot\n",
    "pyplot.show()"
   ]
  },
  {
   "cell_type": "code",
   "execution_count": 120,
   "metadata": {},
   "outputs": [
    {
     "name": "stdout",
     "output_type": "stream",
     "text": [
      "Wall time: 4.51 s\n"
     ]
    }
   ],
   "source": [
    "%%time\n",
    "# Random Forest is performing better than Decision tree.Ensemling improved precision and F1-score.\n",
    "# let's try bagging classifier\n",
    "# We will give 20 Decisions Trees, each with 50% of training dataset and 100% features\n",
    "bg = BaggingClassifier( DecisionTreeClassifier() , max_samples = 0.5 , max_features= 1.0 , n_estimators=20 )\n",
    "bg.fit(X_train , y_train)"
   ]
  },
  {
   "cell_type": "code",
   "execution_count": 121,
   "metadata": {},
   "outputs": [],
   "source": [
    "# save the baggign classifier model\n",
    "filepath = r'C:\\Users\\Adarsh\\uOttawa\\ML Course Project-7Apr\\saved_models\\combined-data\\BaggingClassifier_model'\n",
    "joblib.dump(bg ,filepath )\n",
    "# load model for prediction\n",
    "bg = joblib.load(filepath)"
   ]
  },
  {
   "cell_type": "code",
   "execution_count": 122,
   "metadata": {},
   "outputs": [
    {
     "name": "stdout",
     "output_type": "stream",
     "text": [
      "Accuracy = \n",
      "0.721125\n",
      "\n",
      "\n",
      "              precision    recall  f1-score   support\n",
      "\n",
      "           0       0.72      0.73      0.72      4010\n",
      "           1       0.72      0.71      0.72      3990\n",
      "\n",
      "   micro avg       0.72      0.72      0.72      8000\n",
      "   macro avg       0.72      0.72      0.72      8000\n",
      "weighted avg       0.72      0.72      0.72      8000\n",
      "\n",
      "Wall time: 239 ms\n"
     ]
    }
   ],
   "source": [
    "%%time\n",
    "print(\"Accuracy = \")\n",
    "print(bg.score(X_test, y_test))\n",
    "print(\"\\n\")\n",
    "\n",
    "y_pred_bg = bg.predict(X_test)\n",
    "print(classification_report(y_test, y_pred_bg))"
   ]
  },
  {
   "cell_type": "code",
   "execution_count": 123,
   "metadata": {},
   "outputs": [
    {
     "name": "stdout",
     "output_type": "stream",
     "text": [
      "AUC = 0.7211054444090276\n"
     ]
    },
    {
     "data": {
      "image/png": "[encoded data removed]",
      "text/plain": [
       "<Figure size 432x288 with 1 Axes>"
      ]
     },
     "metadata": {
      "needs_background": "light"
     },
     "output_type": "display_data"
    }
   ],
   "source": [
    "# calculaye fpr, tpr\n",
    "fpr_bg, tpr_bg, thresholds_bg = metrics.roc_curve(y_test,  y_pred_bg)\n",
    "# calculate Area Under the curve\n",
    "auc_bg = metrics.roc_auc_score(y_test, y_pred_bg)\n",
    "\n",
    "print(\"AUC = \" + str(auc_bg))\n",
    "\n",
    "# plot\n",
    "pyplot.plot([0, 1], [0, 1], linestyle='--')\n",
    "# plot the roc curve for the model\n",
    "pyplot.plot(fpr_bg, tpr_bg, marker='.')\n",
    "# show the plot\n",
    "pyplot.show()"
   ]
  },
  {
   "cell_type": "code",
   "execution_count": 124,
   "metadata": {},
   "outputs": [
    {
     "name": "stdout",
     "output_type": "stream",
     "text": [
      "Wall time: 581 ms\n"
     ]
    }
   ],
   "source": [
    "%%time\n",
    "# let's see the performance of BoostingClassifier -ADABoost\n",
    "# 10 decision trees , learning rate will shrink the contribution of each individual learner \n",
    "adaboost = AdaBoostClassifier( DecisionTreeClassifier() , n_estimators= 10 , learning_rate= 1 )\n",
    "adaboost.fit(X_train, y_train)"
   ]
  },
  {
   "cell_type": "code",
   "execution_count": 125,
   "metadata": {},
   "outputs": [],
   "source": [
    "# save the adaboost classifier model\n",
    "filepath = r'C:\\Users\\Adarsh\\uOttawa\\ML Course Project-7Apr\\saved_models\\combined-data\\adaboost_model'\n",
    "joblib.dump(adaboost ,filepath )\n",
    "# load model for prediction\n",
    "adaboost = joblib.load(filepath)"
   ]
  },
  {
   "cell_type": "code",
   "execution_count": 126,
   "metadata": {},
   "outputs": [
    {
     "name": "stdout",
     "output_type": "stream",
     "text": [
      "Accuracy = \n",
      "0.714125\n",
      "\n",
      "\n",
      "              precision    recall  f1-score   support\n",
      "\n",
      "           0       0.73      0.69      0.71      4010\n",
      "           1       0.70      0.74      0.72      3990\n",
      "\n",
      "   micro avg       0.71      0.71      0.71      8000\n",
      "   macro avg       0.71      0.71      0.71      8000\n",
      "weighted avg       0.71      0.71      0.71      8000\n",
      "\n",
      "Wall time: 38.6 ms\n"
     ]
    }
   ],
   "source": [
    "%%time\n",
    "print(\"Accuracy = \")\n",
    "print(adaboost.score(X_test , y_test))\n",
    "\n",
    "print(\"\\n\")\n",
    "\n",
    "y_pred_adaboost = adaboost.predict(X_test)\n",
    "print(classification_report(y_test , y_pred_adaboost))"
   ]
  },
  {
   "cell_type": "code",
   "execution_count": 127,
   "metadata": {},
   "outputs": [
    {
     "name": "stdout",
     "output_type": "stream",
     "text": [
      "AUC = 0.714180401127507\n"
     ]
    },
    {
     "data": {
      "image/png": "[encoded data removed]",
      "text/plain": [
       "<Figure size 432x288 with 1 Axes>"
      ]
     },
     "metadata": {
      "needs_background": "light"
     },
     "output_type": "display_data"
    }
   ],
   "source": [
    "# calculaye fpr, tpr\n",
    "fpr_adaboost, tpr_adaboost, thresholds_adaboost = metrics.roc_curve(y_test,  y_pred_adaboost)\n",
    "# calculate Area Under the curve\n",
    "auc_adaboost = metrics.roc_auc_score(y_test, y_pred_adaboost)\n",
    "\n",
    "print(\"AUC = \" + str(auc_adaboost))\n",
    "\n",
    "# plot\n",
    "pyplot.plot([0, 1], [0, 1], linestyle='--')\n",
    "# plot the roc curve for the model\n",
    "pyplot.plot(fpr_adaboost, tpr_adaboost, marker='.')\n",
    "# show the plot\n",
    "pyplot.show()"
   ]
  },
  {
   "cell_type": "code",
   "execution_count": 128,
   "metadata": {},
   "outputs": [
    {
     "name": "stdout",
     "output_type": "stream",
     "text": [
      "Wall time: 2min 20s\n"
     ]
    }
   ],
   "source": [
    "%%time\n",
    "# Experiement with different types of ensembling\n",
    "models = [\n",
    "    # a. Random Forest\n",
    "    RandomForestClassifier(n_estimators=10),\n",
    "    \n",
    "    # b. Bagging\n",
    "    BaggingClassifier(DecisionTreeClassifier() , max_samples = 0.5 , max_features= 1.0 , n_estimators=20 ),\n",
    "    \n",
    "    # c. Boosting\n",
    "    AdaBoostClassifier( DecisionTreeClassifier() , n_estimators= 10 , learning_rate= 1 ),\n",
    "    \n",
    "    # Custom Voting Classifier\n",
    "    VotingClassifier( estimators=[('adaboost', adaboost), ('random_forest', random_forest), ('bg', bg)] , voting='hard' )\n",
    "\n",
    "    \n",
    "]\n",
    "\n",
    "# define 10 cross validation\n",
    "CV = 10\n",
    "cv_df = pd.DataFrame(index=range(CV * len(models)))\n",
    "entries = []\n",
    "\n",
    "for model in models:\n",
    "  model_name = model.__class__.__name__\n",
    "  accuracies = cross_val_score(model, X, Y, scoring='accuracy', cv=CV)\n",
    "    \n",
    "  for fold_idx, accuracy in enumerate(accuracies):\n",
    "    entries.append((model_name, fold_idx, accuracy))\n",
    "\n",
    "cv_df = pd.DataFrame(entries, columns=['model_name', 'fold_idx', 'accuracy'])\n",
    "cv_df.groupby('model_name').accuracy.mean()\n"
   ]
  },
  {
   "cell_type": "code",
   "execution_count": 129,
   "metadata": {},
   "outputs": [
    {
     "name": "stdout",
     "output_type": "stream",
     "text": [
      "Accuracy = \n",
      "0.73725\n",
      "\n",
      "\n",
      "              precision    recall  f1-score   support\n",
      "\n",
      "           0       0.73      0.76      0.74      4010\n",
      "           1       0.75      0.71      0.73      3990\n",
      "\n",
      "   micro avg       0.74      0.74      0.74      8000\n",
      "   macro avg       0.74      0.74      0.74      8000\n",
      "weighted avg       0.74      0.74      0.74      8000\n",
      "\n",
      "Wall time: 6.78 s\n"
     ]
    }
   ],
   "source": [
    "%%time\n",
    "# let's have our own ensembles method\n",
    "# a combination of decesion tree, SVM, Logistic Regression\n",
    "#lr = LogisticRegression()\n",
    "#dt = DecisionTreeClassifier()\n",
    "# svm will have ploynomial of degree two\n",
    "#svm = SVC(kernel='poly' , degree= 2)\n",
    "\n",
    "# votoing hard means votes on the labels not on the probabilities\n",
    "ensemble_vc = VotingClassifier( estimators=[ ('adaboost', adaboost) , \n",
    "                                            ('random_forest', random_forest) , \n",
    "                                            ('bg', bg)] , voting='hard' )\n",
    "\n",
    "\n",
    "ensemble_vc.fit(X_train , y_train)\n",
    "\n",
    "# save the custom ensembling classifier model \n",
    "filepath = r'C:\\Users\\Adarsh\\uOttawa\\ML Course Project-7Apr\\saved_models\\combined-data\\ensemble_voting_classifier_model'\n",
    "joblib.dump(ensemble_vc ,filepath )\n",
    "# load model for prediction\n",
    "ensemble_vc = joblib.load(filepath)\n",
    "\n",
    "print(\"Accuracy = \")\n",
    "print(ensemble_vc.score(X_test, y_test))\n",
    "print(\"\\n\")\n",
    "\n",
    "# print the metrices for our ensemmbled model\n",
    "y_pred_ensemble_vc = ensemble_vc.predict(X_test)\n",
    "print( classification_report(y_test , y_pred_ensemble_vc) )"
   ]
  },
  {
   "cell_type": "code",
   "execution_count": 130,
   "metadata": {},
   "outputs": [
    {
     "name": "stdout",
     "output_type": "stream",
     "text": [
      "AUC = 0.7371858574116089\n"
     ]
    },
    {
     "data": {
      "image/png": "[encoded data removed]",
      "text/plain": [
       "<Figure size 432x288 with 1 Axes>"
      ]
     },
     "metadata": {
      "needs_background": "light"
     },
     "output_type": "display_data"
    }
   ],
   "source": [
    "# calculaye fpr, tpr\n",
    "fpr_vc, tpr_vc, thresholds_vc = metrics.roc_curve(y_test,  y_pred_ensemble_vc)\n",
    "# calculate Area Under the curve\n",
    "auc_vc = metrics.roc_auc_score(y_test, y_pred_ensemble_vc)\n",
    "\n",
    "print(\"AUC = \" + str(auc_vc))\n",
    "\n",
    "# plot\n",
    "pyplot.plot([0, 1], [0, 1], linestyle='--')\n",
    "# plot the roc curve for the model\n",
    "pyplot.plot(fpr_vc, tpr_vc, marker='.')\n",
    "# show the plot\n",
    "pyplot.show()"
   ]
  },
  {
   "cell_type": "code",
   "execution_count": 131,
   "metadata": {},
   "outputs": [
    {
     "data": {
      "image/png": "[encoded data removed]",
      "text/plain": [
       "<Figure size 576x576 with 1 Axes>"
      ]
     },
     "metadata": {
      "needs_background": "light"
     },
     "output_type": "display_data"
    }
   ],
   "source": [
    "# Create plots with pre-defined labels.\n",
    "fig, ax = plt.subplots(figsize=(8,8))\n",
    "\n",
    "plt.xticks(np.arange(0, 1, 0.1))\n",
    "plt.yticks(np.arange(0, 1, 0.1))\n",
    "\n",
    "\n",
    "pyplot.plot([0, 1], [0, 1], linestyle='--')\n",
    "# plot the roc curve for the model\n",
    "\n",
    "# Random Forest\n",
    "ax.plot(fpr_rf, tpr_rf, marker='.', color = 'b',  label='Random Forest, AUC = '+str(round(auc_rf,4)))\n",
    "# Bagging Classifier\n",
    "ax.plot(fpr_bg, tpr_bg, marker='o', color = 'g',  label='Bagging Classifier, AUC = '+str(round(auc_bg,4)))\n",
    "# AdaBoost Classifier\n",
    "ax.plot(fpr_adaboost, tpr_adaboost, marker='x', color = 'y',  label='AdaBoost Classifier, AUC = '+str(round(auc_adaboost,4)))\n",
    "# Custom Voting Classifier\n",
    "ax.plot(fpr_vc, tpr_vc, marker='.',  color = 'r',  label='Custom Voting Classifier, AUC = '+str(round(auc_vc,4)))\n",
    "\n",
    "plt.ylabel('True Positive Rate')\n",
    "plt.xlabel('False Positive Rate')\n",
    "\n",
    "\n",
    "\n",
    "plt.title('ROC Curve')\n",
    "plt.grid(True)\n",
    "\n",
    "legend = ax.legend(loc='lower right', shadow=True, fontsize='small')\n"
   ]
  },
  {
   "cell_type": "code",
   "execution_count": 132,
   "metadata": {},
   "outputs": [
    {
     "name": "stdout",
     "output_type": "stream",
     "text": [
      "                model_name  fold_idx  accuracy\n",
      "0   RandomForestClassifier         0   0.74950\n",
      "1   RandomForestClassifier         1   0.75150\n",
      "2   RandomForestClassifier         2   0.75975\n",
      "3   RandomForestClassifier         3   0.75925\n",
      "4   RandomForestClassifier         4   0.76250\n",
      "5   RandomForestClassifier         5   0.75675\n",
      "6   RandomForestClassifier         6   0.74600\n",
      "7   RandomForestClassifier         7   0.75675\n",
      "8   RandomForestClassifier         8   0.74900\n",
      "9   RandomForestClassifier         9   0.75950\n",
      "10       BaggingClassifier         0   0.74500\n",
      "11       BaggingClassifier         1   0.75075\n",
      "12       BaggingClassifier         2   0.74500\n",
      "13       BaggingClassifier         3   0.74575\n",
      "14       BaggingClassifier         4   0.74125\n",
      "15       BaggingClassifier         5   0.74975\n",
      "16       BaggingClassifier         6   0.75000\n",
      "17       BaggingClassifier         7   0.74750\n",
      "18       BaggingClassifier         8   0.74200\n",
      "19       BaggingClassifier         9   0.74425\n",
      "20      AdaBoostClassifier         0   0.74475\n",
      "21      AdaBoostClassifier         1   0.74025\n",
      "22      AdaBoostClassifier         2   0.73900\n",
      "23      AdaBoostClassifier         3   0.73275\n",
      "24      AdaBoostClassifier         4   0.73700\n",
      "25      AdaBoostClassifier         5   0.73475\n",
      "26      AdaBoostClassifier         6   0.74650\n",
      "27      AdaBoostClassifier         7   0.72850\n",
      "28      AdaBoostClassifier         8   0.72525\n",
      "29      AdaBoostClassifier         9   0.74650\n",
      "30        VotingClassifier         0   0.75775\n",
      "31        VotingClassifier         1   0.77200\n",
      "32        VotingClassifier         2   0.76200\n",
      "33        VotingClassifier         3   0.75175\n",
      "34        VotingClassifier         4   0.75650\n",
      "35        VotingClassifier         5   0.75900\n",
      "36        VotingClassifier         6   0.76450\n",
      "37        VotingClassifier         7   0.76425\n",
      "38        VotingClassifier         8   0.75650\n",
      "39        VotingClassifier         9   0.75975\n"
     ]
    }
   ],
   "source": [
    "# Save the 10 Fold accuracies of the meta-models for statistica testing\n",
    "filepath = r'C:\\Users\\Adarsh\\uOttawa\\ML Course Project-7Apr\\intermediate_data\\10-fold-accuracies-meta-models'\n",
    "joblib.dump(cv_df ,filepath )\n",
    "\n",
    "print(cv_df)\n",
    "\n"
   ]
  }
 ],
 "metadata": {
  "kernelspec": {
   "display_name": "Python 3",
   "language": "python",
   "name": "python3"
  },
  "language_info": {
   "codemirror_mode": {
    "name": "ipython",
    "version": 3
   },
   "file_extension": ".py",
   "mimetype": "text/x-python",
   "name": "python",
   "nbconvert_exporter": "python",
   "pygments_lexer": "ipython3",
   "version": "3.6.6"
  }
 },
 "nbformat": 4,
 "nbformat_minor": 2
}
