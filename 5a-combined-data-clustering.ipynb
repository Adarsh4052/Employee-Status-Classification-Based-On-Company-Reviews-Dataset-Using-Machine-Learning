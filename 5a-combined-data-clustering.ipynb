{
 "cells": [
  {
   "cell_type": "code",
   "execution_count": 2,
   "metadata": {},
   "outputs": [],
   "source": [
    "# this file deals with combined data (all numeric and some features from the text data like word count, avg word length \n",
    "# and sentiment score )\n",
    "\n",
    "import pandas as pd\n",
    "import numpy as np\n",
    "import matplotlib.pyplot as plt\n",
    "# Though the following import is not directly being used, it is required\n",
    "# for 3D projection to work\n",
    "from mpl_toolkits.mplot3d import Axes3D\n",
    "from sklearn.preprocessing import scale\n",
    "from sklearn.metrics import confusion_matrix, classification_report\n",
    "\n",
    "from sklearn.feature_extraction.text import CountVectorizer\n",
    "\n",
    "from sklearn.cluster import KMeans\n",
    "from sklearn.neighbors import KNeighborsClassifier  \n",
    "\n",
    "\n",
    "\n",
    "from sklearn.datasets import make_checkerboard\n",
    "from sklearn.datasets import samples_generator as sg\n",
    "from sklearn.cluster.bicluster import SpectralBiclustering\n",
    "from sklearn.metrics import consensus_score\n"
   ]
  },
  {
   "cell_type": "code",
   "execution_count": 3,
   "metadata": {},
   "outputs": [],
   "source": [
    "df_numeric = pd.read_csv(r'C:\\Users\\Adarsh\\uOttawa\\ML Course Project-7Apr\\datasets\\2_numeric_data.csv')\n",
    "df_text = pd.read_csv(r'C:\\Users\\Adarsh\\uOttawa\\ML Course Project-7Apr\\datasets\\4a-after-text-cleaning.csv')"
   ]
  },
  {
   "cell_type": "code",
   "execution_count": 4,
   "metadata": {},
   "outputs": [
    {
     "data": {
      "text/plain": [
       "Index(['overall-ratings', 'work-balance-stars', 'culture-values-stars',\n",
       "       'carrer-opportunities-stars', 'comp-benefit-stars',\n",
       "       'senior-mangemnet-stars', 'helpful-count', 'job_status', 'post_day',\n",
       "       'post_month', 'post_year', 'company_amazon', 'company_apple',\n",
       "       'company_facebook', 'company_google', 'company_microsoft',\n",
       "       'company_netflix', 'job_title_num', 'location_num'],\n",
       "      dtype='object')"
      ]
     },
     "execution_count": 4,
     "metadata": {},
     "output_type": "execute_result"
    }
   ],
   "source": [
    "df_numeric.columns"
   ]
  },
  {
   "cell_type": "code",
   "execution_count": 5,
   "metadata": {},
   "outputs": [
    {
     "data": {
      "text/plain": [
       "Index(['feedback', 'job_status', 'feedback_word_count', 'avg_word_len',\n",
       "       'sentiment_score'],\n",
       "      dtype='object')"
      ]
     },
     "execution_count": 5,
     "metadata": {},
     "output_type": "execute_result"
    }
   ],
   "source": [
    "df_text.columns"
   ]
  },
  {
   "cell_type": "code",
   "execution_count": 6,
   "metadata": {},
   "outputs": [
    {
     "data": {
      "text/plain": [
       "(67528, 22)"
      ]
     },
     "execution_count": 6,
     "metadata": {},
     "output_type": "execute_result"
    }
   ],
   "source": [
    "# stack the DataFrames on top of each other/ Merge datasets row -wise \n",
    "df1 = df_numeric\n",
    "df2 = df_text[[ 'feedback_word_count', 'avg_word_len', 'sentiment_score' ]]\n",
    "\n",
    "# concat column wise so axis would 1\n",
    "df = pd.concat([df1, df2], axis=1)\n",
    "df.shape"
   ]
  },
  {
   "cell_type": "code",
   "execution_count": 8,
   "metadata": {},
   "outputs": [],
   "source": [
    "df.to_csv(r'C:\\Users\\Adarsh\\uOttawa\\ML Course Project-7Apr\\datasets\\5a-combined_sentiment_score_and_numeric.csv' , index=False)"
   ]
  },
  {
   "cell_type": "code",
   "execution_count": 14,
   "metadata": {},
   "outputs": [
    {
     "data": {
      "text/plain": [
       "Index(['overall-ratings', 'work-balance-stars', 'culture-values-stars',\n",
       "       'carrer-opportunities-stars', 'comp-benefit-stars',\n",
       "       'senior-mangemnet-stars', 'helpful-count', 'job_status', 'post_day',\n",
       "       'post_month', 'post_year', 'company_amazon', 'company_apple',\n",
       "       'company_facebook', 'company_google', 'company_microsoft',\n",
       "       'company_netflix', 'job_title_num', 'location_num',\n",
       "       'feedback_word_count', 'avg_word_len', 'sentiment_score'],\n",
       "      dtype='object')"
      ]
     },
     "execution_count": 14,
     "metadata": {},
     "output_type": "execute_result"
    }
   ],
   "source": [
    "df.columns"
   ]
  },
  {
   "cell_type": "code",
   "execution_count": 15,
   "metadata": {
    "scrolled": true
   },
   "outputs": [
    {
     "data": {
      "text/html": [
       "<div>\n",
       "<style scoped>\n",
       "    .dataframe tbody tr th:only-of-type {\n",
       "        vertical-align: middle;\n",
       "    }\n",
       "\n",
       "    .dataframe tbody tr th {\n",
       "        vertical-align: top;\n",
       "    }\n",
       "\n",
       "    .dataframe thead th {\n",
       "        text-align: right;\n",
       "    }\n",
       "</style>\n",
       "<table border=\"1\" class=\"dataframe\">\n",
       "  <thead>\n",
       "    <tr style=\"text-align: right;\">\n",
       "      <th></th>\n",
       "      <th>overall-ratings</th>\n",
       "      <th>work-balance-stars</th>\n",
       "      <th>culture-values-stars</th>\n",
       "      <th>carrer-opportunities-stars</th>\n",
       "      <th>comp-benefit-stars</th>\n",
       "      <th>senior-mangemnet-stars</th>\n",
       "      <th>helpful-count</th>\n",
       "      <th>job_status</th>\n",
       "      <th>post_day</th>\n",
       "      <th>post_month</th>\n",
       "      <th>...</th>\n",
       "      <th>company_apple</th>\n",
       "      <th>company_facebook</th>\n",
       "      <th>company_google</th>\n",
       "      <th>company_microsoft</th>\n",
       "      <th>company_netflix</th>\n",
       "      <th>job_title_num</th>\n",
       "      <th>location_num</th>\n",
       "      <th>feedback_word_count</th>\n",
       "      <th>avg_word_len</th>\n",
       "      <th>sentiment_score</th>\n",
       "    </tr>\n",
       "  </thead>\n",
       "  <tbody>\n",
       "    <tr>\n",
       "      <th>67523</th>\n",
       "      <td>3.0</td>\n",
       "      <td>3.0</td>\n",
       "      <td>2.5</td>\n",
       "      <td>4.0</td>\n",
       "      <td>4.0</td>\n",
       "      <td>2.0</td>\n",
       "      <td>0</td>\n",
       "      <td>1</td>\n",
       "      <td>16</td>\n",
       "      <td>12</td>\n",
       "      <td>...</td>\n",
       "      <td>0</td>\n",
       "      <td>0</td>\n",
       "      <td>0</td>\n",
       "      <td>1</td>\n",
       "      <td>0</td>\n",
       "      <td>0.399864</td>\n",
       "      <td>0.371476</td>\n",
       "      <td>83</td>\n",
       "      <td>5.542169</td>\n",
       "      <td>1</td>\n",
       "    </tr>\n",
       "    <tr>\n",
       "      <th>67524</th>\n",
       "      <td>3.0</td>\n",
       "      <td>1.5</td>\n",
       "      <td>2.5</td>\n",
       "      <td>2.5</td>\n",
       "      <td>4.0</td>\n",
       "      <td>2.5</td>\n",
       "      <td>0</td>\n",
       "      <td>0</td>\n",
       "      <td>16</td>\n",
       "      <td>12</td>\n",
       "      <td>...</td>\n",
       "      <td>0</td>\n",
       "      <td>0</td>\n",
       "      <td>0</td>\n",
       "      <td>1</td>\n",
       "      <td>0</td>\n",
       "      <td>0.001718</td>\n",
       "      <td>0.371476</td>\n",
       "      <td>115</td>\n",
       "      <td>4.252174</td>\n",
       "      <td>1</td>\n",
       "    </tr>\n",
       "    <tr>\n",
       "      <th>67525</th>\n",
       "      <td>4.0</td>\n",
       "      <td>3.0</td>\n",
       "      <td>2.5</td>\n",
       "      <td>4.0</td>\n",
       "      <td>4.5</td>\n",
       "      <td>3.5</td>\n",
       "      <td>0</td>\n",
       "      <td>0</td>\n",
       "      <td>15</td>\n",
       "      <td>12</td>\n",
       "      <td>...</td>\n",
       "      <td>0</td>\n",
       "      <td>0</td>\n",
       "      <td>0</td>\n",
       "      <td>1</td>\n",
       "      <td>0</td>\n",
       "      <td>0.003909</td>\n",
       "      <td>0.371476</td>\n",
       "      <td>22</td>\n",
       "      <td>5.227273</td>\n",
       "      <td>1</td>\n",
       "    </tr>\n",
       "    <tr>\n",
       "      <th>67526</th>\n",
       "      <td>3.0</td>\n",
       "      <td>2.0</td>\n",
       "      <td>2.5</td>\n",
       "      <td>3.0</td>\n",
       "      <td>3.5</td>\n",
       "      <td>3.0</td>\n",
       "      <td>0</td>\n",
       "      <td>0</td>\n",
       "      <td>15</td>\n",
       "      <td>12</td>\n",
       "      <td>...</td>\n",
       "      <td>0</td>\n",
       "      <td>0</td>\n",
       "      <td>0</td>\n",
       "      <td>1</td>\n",
       "      <td>0</td>\n",
       "      <td>0.000118</td>\n",
       "      <td>0.371476</td>\n",
       "      <td>28</td>\n",
       "      <td>5.392857</td>\n",
       "      <td>-1</td>\n",
       "    </tr>\n",
       "    <tr>\n",
       "      <th>67527</th>\n",
       "      <td>2.0</td>\n",
       "      <td>2.0</td>\n",
       "      <td>2.5</td>\n",
       "      <td>2.0</td>\n",
       "      <td>4.0</td>\n",
       "      <td>2.0</td>\n",
       "      <td>0</td>\n",
       "      <td>1</td>\n",
       "      <td>14</td>\n",
       "      <td>12</td>\n",
       "      <td>...</td>\n",
       "      <td>0</td>\n",
       "      <td>0</td>\n",
       "      <td>0</td>\n",
       "      <td>1</td>\n",
       "      <td>0</td>\n",
       "      <td>0.001051</td>\n",
       "      <td>0.371476</td>\n",
       "      <td>50</td>\n",
       "      <td>5.140000</td>\n",
       "      <td>1</td>\n",
       "    </tr>\n",
       "  </tbody>\n",
       "</table>\n",
       "<p>5 rows × 22 columns</p>\n",
       "</div>"
      ],
      "text/plain": [
       "       overall-ratings  work-balance-stars  culture-values-stars  \\\n",
       "67523              3.0                 3.0                   2.5   \n",
       "67524              3.0                 1.5                   2.5   \n",
       "67525              4.0                 3.0                   2.5   \n",
       "67526              3.0                 2.0                   2.5   \n",
       "67527              2.0                 2.0                   2.5   \n",
       "\n",
       "       carrer-opportunities-stars  comp-benefit-stars  senior-mangemnet-stars  \\\n",
       "67523                         4.0                 4.0                     2.0   \n",
       "67524                         2.5                 4.0                     2.5   \n",
       "67525                         4.0                 4.5                     3.5   \n",
       "67526                         3.0                 3.5                     3.0   \n",
       "67527                         2.0                 4.0                     2.0   \n",
       "\n",
       "       helpful-count  job_status  post_day  post_month       ...         \\\n",
       "67523              0           1        16          12       ...          \n",
       "67524              0           0        16          12       ...          \n",
       "67525              0           0        15          12       ...          \n",
       "67526              0           0        15          12       ...          \n",
       "67527              0           1        14          12       ...          \n",
       "\n",
       "       company_apple  company_facebook  company_google  company_microsoft  \\\n",
       "67523              0                 0               0                  1   \n",
       "67524              0                 0               0                  1   \n",
       "67525              0                 0               0                  1   \n",
       "67526              0                 0               0                  1   \n",
       "67527              0                 0               0                  1   \n",
       "\n",
       "       company_netflix  job_title_num  location_num  feedback_word_count  \\\n",
       "67523                0       0.399864      0.371476                   83   \n",
       "67524                0       0.001718      0.371476                  115   \n",
       "67525                0       0.003909      0.371476                   22   \n",
       "67526                0       0.000118      0.371476                   28   \n",
       "67527                0       0.001051      0.371476                   50   \n",
       "\n",
       "       avg_word_len  sentiment_score  \n",
       "67523      5.542169                1  \n",
       "67524      4.252174                1  \n",
       "67525      5.227273                1  \n",
       "67526      5.392857               -1  \n",
       "67527      5.140000                1  \n",
       "\n",
       "[5 rows x 22 columns]"
      ]
     },
     "execution_count": 15,
     "metadata": {},
     "output_type": "execute_result"
    }
   ],
   "source": [
    "df.tail(5)"
   ]
  },
  {
   "cell_type": "code",
   "execution_count": 27,
   "metadata": {},
   "outputs": [],
   "source": [
    "X = df[['overall-ratings', 'work-balance-stars', 'culture-values-stars',\n",
    "       'carrer-opportunities-stars', 'comp-benefit-stars',\n",
    "       'senior-mangemnet-stars', 'helpful-count', 'post_day',\n",
    "       'post_month', 'post_year', 'company_amazon', 'company_apple',\n",
    "       'company_facebook', 'company_google', 'company_microsoft',\n",
    "       'company_netflix', 'job_title_num', 'location_num',\n",
    "       'feedback_word_count', 'avg_word_len', 'sentiment_score']]\n",
    "\n",
    "y = df[['job_status']]"
   ]
  },
  {
   "cell_type": "code",
   "execution_count": 65,
   "metadata": {},
   "outputs": [
    {
     "data": {
      "text/plain": [
       "KMeans(algorithm='auto', copy_x=True, init='k-means++', max_iter=300,\n",
       "    n_clusters=2, n_init=10, n_jobs=1, precompute_distances='auto',\n",
       "    random_state=5, tol=0.0001, verbose=0)"
      ]
     },
     "execution_count": 65,
     "metadata": {},
     "output_type": "execute_result"
    }
   ],
   "source": [
    "# building and running the model\n",
    "kmeans_cluster_2 = KMeans(n_clusters=2 , random_state=5)\n",
    "kmeans_cluster_3 = KMeans(n_clusters=2 , random_state=5)\n",
    "kmeans_cluster_4 = KMeans(n_clusters=2 , random_state=5)\n",
    "\n",
    "X = df\n",
    "kmeans_cluster_2.fit(X)\n",
    "kmeans_cluster_3.fit(X)\n",
    "kmeans_cluster_4.fit(X)\n"
   ]
  },
  {
   "cell_type": "code",
   "execution_count": 76,
   "metadata": {},
   "outputs": [
    {
     "ename": "SyntaxError",
     "evalue": "invalid syntax (<ipython-input-76-4fe3f0caaaca>, line 2)",
     "output_type": "error",
     "traceback": [
      "\u001b[1;36m  File \u001b[1;32m\"<ipython-input-76-4fe3f0caaaca>\"\u001b[1;36m, line \u001b[1;32m2\u001b[0m\n\u001b[1;33m    kmeans_cluster_2_df.0.value_counts()\u001b[0m\n\u001b[1;37m                        ^\u001b[0m\n\u001b[1;31mSyntaxError\u001b[0m\u001b[1;31m:\u001b[0m invalid syntax\n"
     ]
    }
   ],
   "source": [
    "kmeans_cluster_2_df = pd.DataFrame(kmeans_cluster_2.labels_)\n"
   ]
  },
  {
   "cell_type": "code",
   "execution_count": 58,
   "metadata": {},
   "outputs": [
    {
     "data": {
      "text/plain": [
       "Text(0.5,1,'feedback_word_count vs sentiment_score')"
      ]
     },
     "execution_count": 58,
     "metadata": {},
     "output_type": "execute_result"
    },
    {
     "data": {
      "image/png": "[encoded data removed]",
      "text/plain": [
       "<Figure size 432x288 with 1 Axes>"
      ]
     },
     "metadata": {
      "needs_background": "light"
     },
     "output_type": "display_data"
    }
   ],
   "source": [
    "color_theme = np.array([ 'darkgray' , 'red' , 'blue' ])\n",
    "\n",
    "\n",
    "plt.scatter(x= X['feedback_word_count'], y = X['sentiment_score'], c = color_theme[cluster_kmeans.labels_], s=50)\n",
    "plt.title('feedback_word_count vs sentiment_score')\n",
    "\n",
    "\n"
   ]
  },
  {
   "cell_type": "code",
   "execution_count": 77,
   "metadata": {},
   "outputs": [
    {
     "data": {
      "text/plain": [
       "array([0, 1, 1, ..., 0, 0, 0])"
      ]
     },
     "execution_count": 77,
     "metadata": {},
     "output_type": "execute_result"
    }
   ],
   "source": [
    "cluster_kmeans.labels_"
   ]
  },
  {
   "cell_type": "code",
   "execution_count": null,
   "metadata": {},
   "outputs": [],
   "source": [
    "# save cluster kmeans model with 2 clusters\n"
   ]
  },
  {
   "cell_type": "code",
   "execution_count": 59,
   "metadata": {},
   "outputs": [
    {
     "data": {
      "text/plain": [
       "Text(0.5,1,'feedback_word_count vs avg_word_len')"
      ]
     },
     "execution_count": 59,
     "metadata": {},
     "output_type": "execute_result"
    },
    {
     "data": {
      "image/png": "[encoded data removed]",
      "text/plain": [
       "<Figure size 432x288 with 1 Axes>"
      ]
     },
     "metadata": {
      "needs_background": "light"
     },
     "output_type": "display_data"
    }
   ],
   "source": [
    "#plt.subplot(1,1,2)\n",
    "plt.scatter(x= X['feedback_word_count'], y = X['avg_word_len'], c = color_theme[cluster_kmeans.labels_], s=50)\n",
    "plt.title('feedback_word_count vs avg_word_len')\n",
    "\n"
   ]
  },
  {
   "cell_type": "code",
   "execution_count": 60,
   "metadata": {},
   "outputs": [
    {
     "data": {
      "text/plain": [
       "Text(0.5,1,'sentiment_score vs post_month')"
      ]
     },
     "execution_count": 60,
     "metadata": {},
     "output_type": "execute_result"
    },
    {
     "data": {
      "image/png": "[encoded data removed]",
      "text/plain": [
       "<Figure size 432x288 with 1 Axes>"
      ]
     },
     "metadata": {
      "needs_background": "light"
     },
     "output_type": "display_data"
    }
   ],
   "source": [
    "#plt.subplot(1,2,1)\n",
    "plt.scatter(x= X['sentiment_score'], y = X['post_month'], c = color_theme[cluster_kmeans.labels_], s=50)\n",
    "plt.title('sentiment_score vs post_month')\n",
    "\n"
   ]
  },
  {
   "cell_type": "code",
   "execution_count": 61,
   "metadata": {},
   "outputs": [
    {
     "data": {
      "text/plain": [
       "Text(0.5,1,'sentiment_score vs post day')"
      ]
     },
     "execution_count": 61,
     "metadata": {},
     "output_type": "execute_result"
    },
    {
     "data": {
      "image/png": "[encoded data removed]",
      "text/plain": [
       "<Figure size 432x288 with 1 Axes>"
      ]
     },
     "metadata": {
      "needs_background": "light"
     },
     "output_type": "display_data"
    }
   ],
   "source": [
    "#plt.subplot(1,2,2)\n",
    "plt.scatter(x= X['sentiment_score'], y = X['post_day'], c = color_theme[cluster_kmeans.labels_], s=50)\n",
    "plt.title('sentiment_score vs post day')\n"
   ]
  },
  {
   "cell_type": "code",
   "execution_count": 62,
   "metadata": {},
   "outputs": [
    {
     "data": {
      "text/plain": [
       "Text(0.5,1,'sentiment_score vs job status')"
      ]
     },
     "execution_count": 62,
     "metadata": {},
     "output_type": "execute_result"
    },
    {
     "data": {
      "image/png": "[encoded data removed]",
      "text/plain": [
       "<Figure size 432x288 with 1 Axes>"
      ]
     },
     "metadata": {
      "needs_background": "light"
     },
     "output_type": "display_data"
    }
   ],
   "source": [
    "#plt.subplot(1,2,2)\n",
    "plt.scatter(x= X['sentiment_score'], y = X['job_status'], c = color_theme[cluster_kmeans.labels_], s=50)\n",
    "plt.title('sentiment_score vs job status')\n"
   ]
  },
  {
   "cell_type": "code",
   "execution_count": 63,
   "metadata": {},
   "outputs": [
    {
     "data": {
      "text/plain": [
       "Text(0.5,1,'job title vs location')"
      ]
     },
     "execution_count": 63,
     "metadata": {},
     "output_type": "execute_result"
    },
    {
     "data": {
      "image/png": "[encoded data removed]",
      "text/plain": [
       "<Figure size 432x288 with 1 Axes>"
      ]
     },
     "metadata": {
      "needs_background": "light"
     },
     "output_type": "display_data"
    }
   ],
   "source": [
    "#plt.subplot(2,2,2)\n",
    "plt.scatter(x= X['job_title_num'], y = X['location_num'], c = color_theme[cluster_kmeans.labels_], s=50)\n",
    "plt.title('job title vs location')\n"
   ]
  }
 ],
 "metadata": {
  "kernelspec": {
   "display_name": "Python 3",
   "language": "python",
   "name": "python3"
  },
  "language_info": {
   "codemirror_mode": {
    "name": "ipython",
    "version": 3
   },
   "file_extension": ".py",
   "mimetype": "text/x-python",
   "name": "python",
   "nbconvert_exporter": "python",
   "pygments_lexer": "ipython3",
   "version": "3.6.6"
  }
 },
 "nbformat": 4,
 "nbformat_minor": 2
}
