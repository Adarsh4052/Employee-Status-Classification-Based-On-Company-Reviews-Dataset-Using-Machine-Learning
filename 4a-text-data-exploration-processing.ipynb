{
 "cells": [
  {
   "cell_type": "code",
   "execution_count": 1,
   "metadata": {},
   "outputs": [],
   "source": [
    "# in this file we are goona work on the text data, extract features from text and build models\n",
    "\n",
    "import pandas as pd\n",
    "import numpy as np\n",
    "import matplotlib.pyplot as plt\n",
    "\n",
    "from sklearn.feature_extraction.text import CountVectorizer\n",
    "\n",
    "from textblob import TextBlob"
   ]
  },
  {
   "cell_type": "code",
   "execution_count": 2,
   "metadata": {},
   "outputs": [],
   "source": [
    "df = pd.read_csv(r'C:\\Users\\Adarsh\\uOttawa\\ML Course Project-7Apr\\datasets\\2_text_data.csv')"
   ]
  },
  {
   "cell_type": "code",
   "execution_count": 3,
   "metadata": {},
   "outputs": [
    {
     "data": {
      "text/plain": [
       "(40000, 2)"
      ]
     },
     "execution_count": 3,
     "metadata": {},
     "output_type": "execute_result"
    }
   ],
   "source": [
    "df.shape"
   ]
  },
  {
   "cell_type": "code",
   "execution_count": 4,
   "metadata": {},
   "outputs": [
    {
     "data": {
      "text/plain": [
       "Index(['feedback', 'job_status'], dtype='object')"
      ]
     },
     "execution_count": 4,
     "metadata": {},
     "output_type": "execute_result"
    }
   ],
   "source": [
    "df.columns"
   ]
  },
  {
   "cell_type": "code",
   "execution_count": 5,
   "metadata": {},
   "outputs": [
    {
     "data": {
      "text/html": [
       "<div>\n",
       "<style scoped>\n",
       "    .dataframe tbody tr th:only-of-type {\n",
       "        vertical-align: middle;\n",
       "    }\n",
       "\n",
       "    .dataframe tbody tr th {\n",
       "        vertical-align: top;\n",
       "    }\n",
       "\n",
       "    .dataframe thead th {\n",
       "        text-align: right;\n",
       "    }\n",
       "</style>\n",
       "<table border=\"1\" class=\"dataframe\">\n",
       "  <thead>\n",
       "    <tr style=\"text-align: right;\">\n",
       "      <th></th>\n",
       "      <th>feedback</th>\n",
       "      <th>job_status</th>\n",
       "    </tr>\n",
       "  </thead>\n",
       "  <tbody>\n",
       "    <tr>\n",
       "      <th>39980</th>\n",
       "      <td>I have been working at Google full-time (More ...</td>\n",
       "      <td>1</td>\n",
       "    </tr>\n",
       "    <tr>\n",
       "      <th>39981</th>\n",
       "      <td>A behemoth in flux Best-in-class people. Reall...</td>\n",
       "      <td>1</td>\n",
       "    </tr>\n",
       "    <tr>\n",
       "      <th>39982</th>\n",
       "      <td>Been there, done that. They make great, unique...</td>\n",
       "      <td>1</td>\n",
       "    </tr>\n",
       "    <tr>\n",
       "      <th>39983</th>\n",
       "      <td>Work Culture. 1) A lot to learn 2) High Bar 3)...</td>\n",
       "      <td>1</td>\n",
       "    </tr>\n",
       "    <tr>\n",
       "      <th>39984</th>\n",
       "      <td>Probably not the best but not the worst either...</td>\n",
       "      <td>1</td>\n",
       "    </tr>\n",
       "    <tr>\n",
       "      <th>39985</th>\n",
       "      <td>Fast paced, fun, challenging You get to work w...</td>\n",
       "      <td>1</td>\n",
       "    </tr>\n",
       "    <tr>\n",
       "      <th>39986</th>\n",
       "      <td>Great company, work/life flexibility, but too ...</td>\n",
       "      <td>1</td>\n",
       "    </tr>\n",
       "    <tr>\n",
       "      <th>39987</th>\n",
       "      <td>So much change in 3 years Fresh enthusiasm kee...</td>\n",
       "      <td>1</td>\n",
       "    </tr>\n",
       "    <tr>\n",
       "      <th>39988</th>\n",
       "      <td>Hardware engineer intern You're working with s...</td>\n",
       "      <td>1</td>\n",
       "    </tr>\n",
       "    <tr>\n",
       "      <th>39989</th>\n",
       "      <td>Program Manager Good pay. Work life balance de...</td>\n",
       "      <td>1</td>\n",
       "    </tr>\n",
       "    <tr>\n",
       "      <th>39990</th>\n",
       "      <td>Best place to work Actually this is the first ...</td>\n",
       "      <td>1</td>\n",
       "    </tr>\n",
       "    <tr>\n",
       "      <th>39991</th>\n",
       "      <td>Technical Program Manager Awesome perks, great...</td>\n",
       "      <td>1</td>\n",
       "    </tr>\n",
       "    <tr>\n",
       "      <th>39992</th>\n",
       "      <td>Good pay, that's literally all. Lots of hours,...</td>\n",
       "      <td>1</td>\n",
       "    </tr>\n",
       "    <tr>\n",
       "      <th>39993</th>\n",
       "      <td>Great Company Great Pay, Good Career developme...</td>\n",
       "      <td>1</td>\n",
       "    </tr>\n",
       "    <tr>\n",
       "      <th>39994</th>\n",
       "      <td>Great place to work 1. Smart people around you...</td>\n",
       "      <td>1</td>\n",
       "    </tr>\n",
       "    <tr>\n",
       "      <th>39995</th>\n",
       "      <td>ehhh it was ok. Benefits, Fellow co-workers, g...</td>\n",
       "      <td>1</td>\n",
       "    </tr>\n",
       "    <tr>\n",
       "      <th>39996</th>\n",
       "      <td>Great company Amazing mobility - there is no c...</td>\n",
       "      <td>1</td>\n",
       "    </tr>\n",
       "    <tr>\n",
       "      <th>39997</th>\n",
       "      <td>Technology Solutions Professional Good Salary ...</td>\n",
       "      <td>1</td>\n",
       "    </tr>\n",
       "    <tr>\n",
       "      <th>39998</th>\n",
       "      <td>Great! Wonderful experience - will come back N...</td>\n",
       "      <td>1</td>\n",
       "    </tr>\n",
       "    <tr>\n",
       "      <th>39999</th>\n",
       "      <td>Good and bad and in between You have the abili...</td>\n",
       "      <td>1</td>\n",
       "    </tr>\n",
       "  </tbody>\n",
       "</table>\n",
       "</div>"
      ],
      "text/plain": [
       "                                                feedback  job_status\n",
       "39980  I have been working at Google full-time (More ...           1\n",
       "39981  A behemoth in flux Best-in-class people. Reall...           1\n",
       "39982  Been there, done that. They make great, unique...           1\n",
       "39983  Work Culture. 1) A lot to learn 2) High Bar 3)...           1\n",
       "39984  Probably not the best but not the worst either...           1\n",
       "39985  Fast paced, fun, challenging You get to work w...           1\n",
       "39986  Great company, work/life flexibility, but too ...           1\n",
       "39987  So much change in 3 years Fresh enthusiasm kee...           1\n",
       "39988  Hardware engineer intern You're working with s...           1\n",
       "39989  Program Manager Good pay. Work life balance de...           1\n",
       "39990  Best place to work Actually this is the first ...           1\n",
       "39991  Technical Program Manager Awesome perks, great...           1\n",
       "39992  Good pay, that's literally all. Lots of hours,...           1\n",
       "39993  Great Company Great Pay, Good Career developme...           1\n",
       "39994  Great place to work 1. Smart people around you...           1\n",
       "39995  ehhh it was ok. Benefits, Fellow co-workers, g...           1\n",
       "39996  Great company Amazing mobility - there is no c...           1\n",
       "39997  Technology Solutions Professional Good Salary ...           1\n",
       "39998  Great! Wonderful experience - will come back N...           1\n",
       "39999  Good and bad and in between You have the abili...           1"
      ]
     },
     "execution_count": 5,
     "metadata": {},
     "output_type": "execute_result"
    }
   ],
   "source": [
    "df.tail(20)"
   ]
  },
  {
   "cell_type": "code",
   "execution_count": 6,
   "metadata": {},
   "outputs": [
    {
     "data": {
      "text/html": [
       "<div>\n",
       "<style scoped>\n",
       "    .dataframe tbody tr th:only-of-type {\n",
       "        vertical-align: middle;\n",
       "    }\n",
       "\n",
       "    .dataframe tbody tr th {\n",
       "        vertical-align: top;\n",
       "    }\n",
       "\n",
       "    .dataframe thead th {\n",
       "        text-align: right;\n",
       "    }\n",
       "</style>\n",
       "<table border=\"1\" class=\"dataframe\">\n",
       "  <thead>\n",
       "    <tr style=\"text-align: right;\">\n",
       "      <th></th>\n",
       "      <th>feedback</th>\n",
       "      <th>job_status</th>\n",
       "      <th>feedback_word_count</th>\n",
       "    </tr>\n",
       "  </thead>\n",
       "  <tbody>\n",
       "    <tr>\n",
       "      <th>0</th>\n",
       "      <td>Early opinions of working at amazon Exciting. ...</td>\n",
       "      <td>0</td>\n",
       "      <td>88</td>\n",
       "    </tr>\n",
       "    <tr>\n",
       "      <th>1</th>\n",
       "      <td>Amazing company to work for! Very friendly env...</td>\n",
       "      <td>0</td>\n",
       "      <td>104</td>\n",
       "    </tr>\n",
       "    <tr>\n",
       "      <th>2</th>\n",
       "      <td>Different and great company - you get huge res...</td>\n",
       "      <td>0</td>\n",
       "      <td>151</td>\n",
       "    </tr>\n",
       "    <tr>\n",
       "      <th>3</th>\n",
       "      <td>Better than your average sweat shop! Good bene...</td>\n",
       "      <td>0</td>\n",
       "      <td>153</td>\n",
       "    </tr>\n",
       "    <tr>\n",
       "      <th>4</th>\n",
       "      <td>Great Company to Work For, Highly Recommended ...</td>\n",
       "      <td>0</td>\n",
       "      <td>27</td>\n",
       "    </tr>\n",
       "  </tbody>\n",
       "</table>\n",
       "</div>"
      ],
      "text/plain": [
       "                                            feedback  job_status  \\\n",
       "0  Early opinions of working at amazon Exciting. ...           0   \n",
       "1  Amazing company to work for! Very friendly env...           0   \n",
       "2  Different and great company - you get huge res...           0   \n",
       "3  Better than your average sweat shop! Good bene...           0   \n",
       "4  Great Company to Work For, Highly Recommended ...           0   \n",
       "\n",
       "   feedback_word_count  \n",
       "0                   88  \n",
       "1                  104  \n",
       "2                  151  \n",
       "3                  153  \n",
       "4                   27  "
      ]
     },
     "execution_count": 6,
     "metadata": {},
     "output_type": "execute_result"
    }
   ],
   "source": [
    "# 1. Feature extraction : number of words\n",
    "# basic idea is to extract number words in each title \n",
    "# intuition behind with this technique is - some collection/categories need longer title than others\n",
    "\n",
    "# make a new feature  word_count and calculate the words by splitting the strin on white space\n",
    "df['feedback_word_count'] = df['feedback'].apply( lambda x : len(str(x).split(\" \") ) )\n",
    "\n",
    "df.head(5)"
   ]
  },
  {
   "cell_type": "code",
   "execution_count": 7,
   "metadata": {},
   "outputs": [
    {
     "data": {
      "text/html": [
       "<div>\n",
       "<style scoped>\n",
       "    .dataframe tbody tr th:only-of-type {\n",
       "        vertical-align: middle;\n",
       "    }\n",
       "\n",
       "    .dataframe tbody tr th {\n",
       "        vertical-align: top;\n",
       "    }\n",
       "\n",
       "    .dataframe thead th {\n",
       "        text-align: right;\n",
       "    }\n",
       "</style>\n",
       "<table border=\"1\" class=\"dataframe\">\n",
       "  <thead>\n",
       "    <tr style=\"text-align: right;\">\n",
       "      <th></th>\n",
       "      <th>feedback</th>\n",
       "      <th>job_status</th>\n",
       "      <th>feedback_word_count</th>\n",
       "      <th>avg_word_len</th>\n",
       "    </tr>\n",
       "  </thead>\n",
       "  <tbody>\n",
       "    <tr>\n",
       "      <th>0</th>\n",
       "      <td>Early opinions of working at amazon Exciting. ...</td>\n",
       "      <td>0</td>\n",
       "      <td>88</td>\n",
       "      <td>4.534091</td>\n",
       "    </tr>\n",
       "    <tr>\n",
       "      <th>1</th>\n",
       "      <td>Amazing company to work for! Very friendly env...</td>\n",
       "      <td>0</td>\n",
       "      <td>104</td>\n",
       "      <td>4.336538</td>\n",
       "    </tr>\n",
       "    <tr>\n",
       "      <th>2</th>\n",
       "      <td>Different and great company - you get huge res...</td>\n",
       "      <td>0</td>\n",
       "      <td>151</td>\n",
       "      <td>4.516556</td>\n",
       "    </tr>\n",
       "    <tr>\n",
       "      <th>3</th>\n",
       "      <td>Better than your average sweat shop! Good bene...</td>\n",
       "      <td>0</td>\n",
       "      <td>153</td>\n",
       "      <td>4.895425</td>\n",
       "    </tr>\n",
       "    <tr>\n",
       "      <th>4</th>\n",
       "      <td>Great Company to Work For, Highly Recommended ...</td>\n",
       "      <td>0</td>\n",
       "      <td>27</td>\n",
       "      <td>6.370370</td>\n",
       "    </tr>\n",
       "  </tbody>\n",
       "</table>\n",
       "</div>"
      ],
      "text/plain": [
       "                                            feedback  job_status  \\\n",
       "0  Early opinions of working at amazon Exciting. ...           0   \n",
       "1  Amazing company to work for! Very friendly env...           0   \n",
       "2  Different and great company - you get huge res...           0   \n",
       "3  Better than your average sweat shop! Good bene...           0   \n",
       "4  Great Company to Work For, Highly Recommended ...           0   \n",
       "\n",
       "   feedback_word_count  avg_word_len  \n",
       "0                   88      4.534091  \n",
       "1                  104      4.336538  \n",
       "2                  151      4.516556  \n",
       "3                  153      4.895425  \n",
       "4                   27      6.370370  "
      ]
     },
     "execution_count": 7,
     "metadata": {},
     "output_type": "execute_result"
    }
   ],
   "source": [
    "# 2. Feature : Average word length (Sum categories might need longer words than others)\n",
    "# formula : Sum (length of all the words in the tweet or doc ) / (total length of the tweet or doc)\n",
    "\n",
    "def avg_word_length(sentence):\n",
    "    words = sentence.split()\n",
    "    return ( sum( len(word) for word in words ) / len(words))\n",
    "\n",
    "df['avg_word_len'] = df['feedback'].apply( lambda x: avg_word_length(x) )\n",
    "\n",
    "# print\n",
    "df.head(5)"
   ]
  },
  {
   "cell_type": "code",
   "execution_count": 8,
   "metadata": {},
   "outputs": [],
   "source": [
    "# change type of feedback from object to string to avoid future errors\n",
    "df['feedback'] = df['feedback'].astype('str') "
   ]
  },
  {
   "cell_type": "code",
   "execution_count": 9,
   "metadata": {
    "scrolled": true
   },
   "outputs": [],
   "source": [
    "def sentiment(x):\n",
    "    sentiment = TextBlob(x)\n",
    "    return sentiment.sentiment.polarity\n",
    "\n",
    "df['sentiment_score'] = df['feedback'].apply(sentiment)\n"
   ]
  },
  {
   "cell_type": "code",
   "execution_count": 10,
   "metadata": {},
   "outputs": [
    {
     "data": {
      "text/html": [
       "<div>\n",
       "<style scoped>\n",
       "    .dataframe tbody tr th:only-of-type {\n",
       "        vertical-align: middle;\n",
       "    }\n",
       "\n",
       "    .dataframe tbody tr th {\n",
       "        vertical-align: top;\n",
       "    }\n",
       "\n",
       "    .dataframe thead th {\n",
       "        text-align: right;\n",
       "    }\n",
       "</style>\n",
       "<table border=\"1\" class=\"dataframe\">\n",
       "  <thead>\n",
       "    <tr style=\"text-align: right;\">\n",
       "      <th></th>\n",
       "      <th>feedback</th>\n",
       "      <th>job_status</th>\n",
       "      <th>feedback_word_count</th>\n",
       "      <th>avg_word_len</th>\n",
       "      <th>sentiment_score</th>\n",
       "    </tr>\n",
       "  </thead>\n",
       "  <tbody>\n",
       "    <tr>\n",
       "      <th>0</th>\n",
       "      <td>Early opinions of working at amazon Exciting. ...</td>\n",
       "      <td>0</td>\n",
       "      <td>88</td>\n",
       "      <td>4.534091</td>\n",
       "      <td>0.124329</td>\n",
       "    </tr>\n",
       "    <tr>\n",
       "      <th>1</th>\n",
       "      <td>Amazing company to work for! Very friendly env...</td>\n",
       "      <td>0</td>\n",
       "      <td>104</td>\n",
       "      <td>4.336538</td>\n",
       "      <td>0.448133</td>\n",
       "    </tr>\n",
       "    <tr>\n",
       "      <th>2</th>\n",
       "      <td>Different and great company - you get huge res...</td>\n",
       "      <td>0</td>\n",
       "      <td>151</td>\n",
       "      <td>4.516556</td>\n",
       "      <td>0.373810</td>\n",
       "    </tr>\n",
       "    <tr>\n",
       "      <th>3</th>\n",
       "      <td>Better than your average sweat shop! Good bene...</td>\n",
       "      <td>0</td>\n",
       "      <td>153</td>\n",
       "      <td>4.895425</td>\n",
       "      <td>0.199087</td>\n",
       "    </tr>\n",
       "    <tr>\n",
       "      <th>4</th>\n",
       "      <td>Great Company to Work For, Highly Recommended ...</td>\n",
       "      <td>0</td>\n",
       "      <td>27</td>\n",
       "      <td>6.370370</td>\n",
       "      <td>0.480000</td>\n",
       "    </tr>\n",
       "  </tbody>\n",
       "</table>\n",
       "</div>"
      ],
      "text/plain": [
       "                                            feedback  job_status  \\\n",
       "0  Early opinions of working at amazon Exciting. ...           0   \n",
       "1  Amazing company to work for! Very friendly env...           0   \n",
       "2  Different and great company - you get huge res...           0   \n",
       "3  Better than your average sweat shop! Good bene...           0   \n",
       "4  Great Company to Work For, Highly Recommended ...           0   \n",
       "\n",
       "   feedback_word_count  avg_word_len  sentiment_score  \n",
       "0                   88      4.534091         0.124329  \n",
       "1                  104      4.336538         0.448133  \n",
       "2                  151      4.516556         0.373810  \n",
       "3                  153      4.895425         0.199087  \n",
       "4                   27      6.370370         0.480000  "
      ]
     },
     "execution_count": 10,
     "metadata": {},
     "output_type": "execute_result"
    }
   ],
   "source": [
    "df.head(5)"
   ]
  },
  {
   "cell_type": "code",
   "execution_count": 12,
   "metadata": {},
   "outputs": [
    {
     "data": {
      "text/plain": [
       " 1    36486\n",
       "-1     2794\n",
       " 0      720\n",
       "Name: sentiment, dtype: int64"
      ]
     },
     "execution_count": 12,
     "metadata": {},
     "output_type": "execute_result"
    }
   ],
   "source": [
    "# assign numeric values to the sentiments\n",
    "\n",
    "sentiment_numeric = []\n",
    "\n",
    "for score in df['sentiment_score']:\n",
    "    # positive sentiments will have value \"+1\"\n",
    "    if score > 0:\n",
    "        sentiment_numeric.append(1)\n",
    "    # positive sentiments will have value \"-1\"\n",
    "    elif score < 0:\n",
    "        sentiment_numeric.append(-1)\n",
    "    # positive sentiments will have value \"0\"\n",
    "    elif score == 0:\n",
    "        sentiment_numeric.append(0)\n",
    "\n",
    "df['sentiment'] = sentiment_numeric\n",
    "df.sentiment.value_counts()"
   ]
  },
  {
   "cell_type": "code",
   "execution_count": 13,
   "metadata": {},
   "outputs": [
    {
     "data": {
      "text/html": [
       "<div>\n",
       "<style scoped>\n",
       "    .dataframe tbody tr th:only-of-type {\n",
       "        vertical-align: middle;\n",
       "    }\n",
       "\n",
       "    .dataframe tbody tr th {\n",
       "        vertical-align: top;\n",
       "    }\n",
       "\n",
       "    .dataframe thead th {\n",
       "        text-align: right;\n",
       "    }\n",
       "</style>\n",
       "<table border=\"1\" class=\"dataframe\">\n",
       "  <thead>\n",
       "    <tr style=\"text-align: right;\">\n",
       "      <th></th>\n",
       "      <th>feedback</th>\n",
       "      <th>job_status</th>\n",
       "      <th>feedback_word_count</th>\n",
       "      <th>avg_word_len</th>\n",
       "      <th>sentiment_score</th>\n",
       "      <th>sentiment</th>\n",
       "    </tr>\n",
       "  </thead>\n",
       "  <tbody>\n",
       "    <tr>\n",
       "      <th>0</th>\n",
       "      <td>Early opinions of working at amazon Exciting. ...</td>\n",
       "      <td>0</td>\n",
       "      <td>88</td>\n",
       "      <td>4.534091</td>\n",
       "      <td>0.124329</td>\n",
       "      <td>1</td>\n",
       "    </tr>\n",
       "    <tr>\n",
       "      <th>1</th>\n",
       "      <td>Amazing company to work for! Very friendly env...</td>\n",
       "      <td>0</td>\n",
       "      <td>104</td>\n",
       "      <td>4.336538</td>\n",
       "      <td>0.448133</td>\n",
       "      <td>1</td>\n",
       "    </tr>\n",
       "    <tr>\n",
       "      <th>2</th>\n",
       "      <td>Different and great company - you get huge res...</td>\n",
       "      <td>0</td>\n",
       "      <td>151</td>\n",
       "      <td>4.516556</td>\n",
       "      <td>0.373810</td>\n",
       "      <td>1</td>\n",
       "    </tr>\n",
       "    <tr>\n",
       "      <th>3</th>\n",
       "      <td>Better than your average sweat shop! Good bene...</td>\n",
       "      <td>0</td>\n",
       "      <td>153</td>\n",
       "      <td>4.895425</td>\n",
       "      <td>0.199087</td>\n",
       "      <td>1</td>\n",
       "    </tr>\n",
       "    <tr>\n",
       "      <th>4</th>\n",
       "      <td>Great Company to Work For, Highly Recommended ...</td>\n",
       "      <td>0</td>\n",
       "      <td>27</td>\n",
       "      <td>6.370370</td>\n",
       "      <td>0.480000</td>\n",
       "      <td>1</td>\n",
       "    </tr>\n",
       "  </tbody>\n",
       "</table>\n",
       "</div>"
      ],
      "text/plain": [
       "                                            feedback  job_status  \\\n",
       "0  Early opinions of working at amazon Exciting. ...           0   \n",
       "1  Amazing company to work for! Very friendly env...           0   \n",
       "2  Different and great company - you get huge res...           0   \n",
       "3  Better than your average sweat shop! Good bene...           0   \n",
       "4  Great Company to Work For, Highly Recommended ...           0   \n",
       "\n",
       "   feedback_word_count  avg_word_len  sentiment_score  sentiment  \n",
       "0                   88      4.534091         0.124329          1  \n",
       "1                  104      4.336538         0.448133          1  \n",
       "2                  151      4.516556         0.373810          1  \n",
       "3                  153      4.895425         0.199087          1  \n",
       "4                   27      6.370370         0.480000          1  "
      ]
     },
     "execution_count": 13,
     "metadata": {},
     "output_type": "execute_result"
    }
   ],
   "source": [
    "df.head(5)"
   ]
  },
  {
   "cell_type": "code",
   "execution_count": 14,
   "metadata": {},
   "outputs": [],
   "source": [
    "# let's start cleaning the data "
   ]
  },
  {
   "cell_type": "code",
   "execution_count": 15,
   "metadata": {},
   "outputs": [
    {
     "data": {
      "text/plain": [
       "0    early opinions of working at amazon exciting. ...\n",
       "1    amazing company to work for! very friendly env...\n",
       "2    different and great company - you get huge res...\n",
       "3    better than your average sweat shop! good bene...\n",
       "4    great company to work for, highly recommended ...\n",
       "Name: feedback, dtype: object"
      ]
     },
     "execution_count": 15,
     "metadata": {},
     "output_type": "execute_result"
    }
   ],
   "source": [
    "# 1. Lower casing  - change all the words to lower case to avoid duplication. Because \"Python\" and \"python\" considered 2 words\n",
    "# we will split the title into words and then convert those words into lower case and then join\n",
    "\n",
    "df['feedback'] = df['feedback'].apply( lambda x : \" \".join( x.lower() for x in x.split() ) )\n",
    "df['feedback'].head(5)"
   ]
  },
  {
   "cell_type": "code",
   "execution_count": 16,
   "metadata": {},
   "outputs": [
    {
     "data": {
      "text/plain": [
       "0    early opinions of working at amazon exciting i...\n",
       "1    amazing company to work for very friendly envi...\n",
       "2    different and great company  you get huge resp...\n",
       "3    better than your average sweat shop good benef...\n",
       "4    great company to work for highly recommended p...\n",
       "Name: feedback, dtype: object"
      ]
     },
     "execution_count": 16,
     "metadata": {},
     "output_type": "execute_result"
    }
   ],
   "source": [
    "# 2. Remove punctuations and special charactaers\n",
    "df['feedback'] = df['feedback'].str.replace('[^\\w\\s]','')\n",
    "# the [^\\w\\s] means remove everything, keep only words(w) and spaces(s)\n",
    "# this step should be done after feature extraction like hashtags, user tagged\n",
    "df['feedback'].head()"
   ]
  },
  {
   "cell_type": "code",
   "execution_count": 17,
   "metadata": {},
   "outputs": [
    {
     "data": {
      "text/plain": [
       "0    early opinions working amazon exciting right t...\n",
       "1    amazing company work friendly environment empl...\n",
       "2    different great company get huge responsibilit...\n",
       "3    better average sweat shop good benefits sharp ...\n",
       "4    great company work highly recommended pay work...\n",
       "Name: feedback, dtype: object"
      ]
     },
     "execution_count": 17,
     "metadata": {},
     "output_type": "execute_result"
    }
   ],
   "source": [
    "# 3 . Removal of stop words - the, a , and etc. These are most commonly occuring words, and may created irrevelent \n",
    "# baises to our model\n",
    "\n",
    "#import nltk\n",
    "# nltk.download('stopwords')\n",
    "from nltk.corpus import stopwords\n",
    "stop = stopwords.words('english')\n",
    "\n",
    "# we are gonna split the title into words and then filter the stop words and join them back\n",
    "df['feedback'] = df['feedback'].apply( lambda x : \" \".join( x for x in x.split() if x not in stop) )\n",
    "df['feedback'].head(5)"
   ]
  },
  {
   "cell_type": "code",
   "execution_count": 18,
   "metadata": {},
   "outputs": [
    {
     "data": {
      "text/plain": [
       "work          40202\n",
       "great         26805\n",
       "people        23197\n",
       "good          22790\n",
       "company       21379\n",
       "none          18636\n",
       "get           12625\n",
       "management    11806\n",
       "benefits      11400\n",
       "employees     11068\n",
       "dtype: int64"
      ]
     },
     "execution_count": 18,
     "metadata": {},
     "output_type": "execute_result"
    }
   ],
   "source": [
    "# 4. Frequent word removal from the text; text which are not stopwords\n",
    "# first we will take whole tweets data and split into words and then calculate their frequency\n",
    "#  join words only with strings so, there needs to be some string to join other string\n",
    "all_words = ' '.join( df['feedback'] ).split()\n",
    "freq = pd.Series(all_words).value_counts()[:10]\n",
    "freq"
   ]
  },
  {
   "cell_type": "code",
   "execution_count": 19,
   "metadata": {
    "scrolled": true
   },
   "outputs": [
    {
     "data": {
      "text/html": [
       "<div>\n",
       "<style scoped>\n",
       "    .dataframe tbody tr th:only-of-type {\n",
       "        vertical-align: middle;\n",
       "    }\n",
       "\n",
       "    .dataframe tbody tr th {\n",
       "        vertical-align: top;\n",
       "    }\n",
       "\n",
       "    .dataframe thead th {\n",
       "        text-align: right;\n",
       "    }\n",
       "</style>\n",
       "<table border=\"1\" class=\"dataframe\">\n",
       "  <thead>\n",
       "    <tr style=\"text-align: right;\">\n",
       "      <th></th>\n",
       "      <th>feedback</th>\n",
       "      <th>job_status</th>\n",
       "      <th>feedback_word_count</th>\n",
       "      <th>avg_word_len</th>\n",
       "      <th>sentiment_score</th>\n",
       "      <th>sentiment</th>\n",
       "    </tr>\n",
       "  </thead>\n",
       "  <tbody>\n",
       "    <tr>\n",
       "      <th>0</th>\n",
       "      <td>early opinions working amazon exciting right t...</td>\n",
       "      <td>0</td>\n",
       "      <td>88</td>\n",
       "      <td>4.534091</td>\n",
       "      <td>0.124329</td>\n",
       "      <td>1</td>\n",
       "    </tr>\n",
       "    <tr>\n",
       "      <th>1</th>\n",
       "      <td>amazing friendly environment employee discount...</td>\n",
       "      <td>0</td>\n",
       "      <td>104</td>\n",
       "      <td>4.336538</td>\n",
       "      <td>0.448133</td>\n",
       "      <td>1</td>\n",
       "    </tr>\n",
       "    <tr>\n",
       "      <th>2</th>\n",
       "      <td>different huge responsibility fast impact righ...</td>\n",
       "      <td>0</td>\n",
       "      <td>151</td>\n",
       "      <td>4.516556</td>\n",
       "      <td>0.373810</td>\n",
       "      <td>1</td>\n",
       "    </tr>\n",
       "    <tr>\n",
       "      <th>3</th>\n",
       "      <td>better average sweat shop sharp cutting edge b...</td>\n",
       "      <td>0</td>\n",
       "      <td>153</td>\n",
       "      <td>4.895425</td>\n",
       "      <td>0.199087</td>\n",
       "      <td>1</td>\n",
       "    </tr>\n",
       "    <tr>\n",
       "      <th>4</th>\n",
       "      <td>highly recommended pay load advancement techno...</td>\n",
       "      <td>0</td>\n",
       "      <td>27</td>\n",
       "      <td>6.370370</td>\n",
       "      <td>0.480000</td>\n",
       "      <td>1</td>\n",
       "    </tr>\n",
       "  </tbody>\n",
       "</table>\n",
       "</div>"
      ],
      "text/plain": [
       "                                            feedback  job_status  \\\n",
       "0  early opinions working amazon exciting right t...           0   \n",
       "1  amazing friendly environment employee discount...           0   \n",
       "2  different huge responsibility fast impact righ...           0   \n",
       "3  better average sweat shop sharp cutting edge b...           0   \n",
       "4  highly recommended pay load advancement techno...           0   \n",
       "\n",
       "   feedback_word_count  avg_word_len  sentiment_score  sentiment  \n",
       "0                   88      4.534091         0.124329          1  \n",
       "1                  104      4.336538         0.448133          1  \n",
       "2                  151      4.516556         0.373810          1  \n",
       "3                  153      4.895425         0.199087          1  \n",
       "4                   27      6.370370         0.480000          1  "
      ]
     },
     "execution_count": 19,
     "metadata": {},
     "output_type": "execute_result"
    }
   ],
   "source": [
    "# 4a)the freq words might add some bias to our model and not contribute to our model \n",
    "# remove those common words which are  ouccring more than 10,000 times using \"freq\"\n",
    "df['feedback'] = df['feedback'].apply( lambda x: \" \".join( x for x in x.split() if x not in freq ) )\n",
    "df.head(5)"
   ]
  },
  {
   "cell_type": "code",
   "execution_count": 20,
   "metadata": {},
   "outputs": [
    {
     "data": {
      "text/html": [
       "<div>\n",
       "<style scoped>\n",
       "    .dataframe tbody tr th:only-of-type {\n",
       "        vertical-align: middle;\n",
       "    }\n",
       "\n",
       "    .dataframe tbody tr th {\n",
       "        vertical-align: top;\n",
       "    }\n",
       "\n",
       "    .dataframe thead th {\n",
       "        text-align: right;\n",
       "    }\n",
       "</style>\n",
       "<table border=\"1\" class=\"dataframe\">\n",
       "  <thead>\n",
       "    <tr style=\"text-align: right;\">\n",
       "      <th></th>\n",
       "      <th>feedback</th>\n",
       "      <th>job_status</th>\n",
       "      <th>feedback_word_count</th>\n",
       "      <th>avg_word_len</th>\n",
       "      <th>sentiment_score</th>\n",
       "      <th>sentiment</th>\n",
       "    </tr>\n",
       "  </thead>\n",
       "  <tbody>\n",
       "    <tr>\n",
       "      <th>0</th>\n",
       "      <td>early opinions working amazon exciting right t...</td>\n",
       "      <td>0</td>\n",
       "      <td>88</td>\n",
       "      <td>4.534091</td>\n",
       "      <td>0.124329</td>\n",
       "      <td>1</td>\n",
       "    </tr>\n",
       "    <tr>\n",
       "      <th>1</th>\n",
       "      <td>amazing friendly environment employee discount...</td>\n",
       "      <td>0</td>\n",
       "      <td>104</td>\n",
       "      <td>4.336538</td>\n",
       "      <td>0.448133</td>\n",
       "      <td>1</td>\n",
       "    </tr>\n",
       "    <tr>\n",
       "      <th>2</th>\n",
       "      <td>different huge responsibility fast impact righ...</td>\n",
       "      <td>0</td>\n",
       "      <td>151</td>\n",
       "      <td>4.516556</td>\n",
       "      <td>0.373810</td>\n",
       "      <td>1</td>\n",
       "    </tr>\n",
       "    <tr>\n",
       "      <th>3</th>\n",
       "      <td>better average sweat shop sharp cutting edge b...</td>\n",
       "      <td>0</td>\n",
       "      <td>153</td>\n",
       "      <td>4.895425</td>\n",
       "      <td>0.199087</td>\n",
       "      <td>1</td>\n",
       "    </tr>\n",
       "    <tr>\n",
       "      <th>4</th>\n",
       "      <td>highly recommended pay load advancement techno...</td>\n",
       "      <td>0</td>\n",
       "      <td>27</td>\n",
       "      <td>6.370370</td>\n",
       "      <td>0.480000</td>\n",
       "      <td>1</td>\n",
       "    </tr>\n",
       "  </tbody>\n",
       "</table>\n",
       "</div>"
      ],
      "text/plain": [
       "                                            feedback  job_status  \\\n",
       "0  early opinions working amazon exciting right t...           0   \n",
       "1  amazing friendly environment employee discount...           0   \n",
       "2  different huge responsibility fast impact righ...           0   \n",
       "3  better average sweat shop sharp cutting edge b...           0   \n",
       "4  highly recommended pay load advancement techno...           0   \n",
       "\n",
       "   feedback_word_count  avg_word_len  sentiment_score  sentiment  \n",
       "0                   88      4.534091         0.124329          1  \n",
       "1                  104      4.336538         0.448133          1  \n",
       "2                  151      4.516556         0.373810          1  \n",
       "3                  153      4.895425         0.199087          1  \n",
       "4                   27      6.370370         0.480000          1  "
      ]
     },
     "execution_count": 20,
     "metadata": {},
     "output_type": "execute_result"
    }
   ],
   "source": [
    "# 4c) remove none word, becuase it was given when title was not present properly\n",
    "df['feedback'] = df['feedback'].apply( lambda x: \" \".join( x for x in x.split() if x not in [\"none\", \"None\"] ) )\n",
    "df.head(5)\n"
   ]
  },
  {
   "cell_type": "code",
   "execution_count": 21,
   "metadata": {},
   "outputs": [
    {
     "data": {
      "text/plain": [
       "<bound method Series.sort_values of time                      10270\n",
       "place                      9514\n",
       "working                    8904\n",
       "job                        8854\n",
       "pay                        8645\n",
       "culture                    7745\n",
       "environment                7647\n",
       "like                       7364\n",
       "team                       7252\n",
       "amazon                     6994\n",
       "lot                        6951\n",
       "dont                       6774\n",
       "managers                   6584\n",
       "many                       6352\n",
       "hours                      6314\n",
       "really                     6143\n",
       "balance                    6056\n",
       "make                       5941\n",
       "best                       5811\n",
       "much                       5810\n",
       "hard                       5638\n",
       "apple                      5373\n",
       "life                       5269\n",
       "one                        5265\n",
       "new                        5174\n",
       "manager                    5092\n",
       "opportunities              5059\n",
       "experience                 4902\n",
       "career                     4749\n",
       "microsoft                  4612\n",
       "                          ...  \n",
       "jbs                           1\n",
       "sau                           1\n",
       "jobconstant                   1\n",
       "wiped                         1\n",
       "miscommunicates               1\n",
       "meetingsoft                   1\n",
       "zuckerbergs                   1\n",
       "ultrapolitical                1\n",
       "docscompettive                1\n",
       "trainingcertifications        1\n",
       "softdrinks                    1\n",
       "inand                         1\n",
       "7075                          1\n",
       "productz                      1\n",
       "repetitivelong                1\n",
       "zealots                       1\n",
       "hordes                        1\n",
       "konkurrenz                    1\n",
       "toolsroll                     1\n",
       "infuse                        1\n",
       "nannies                       1\n",
       "reinterviewing                1\n",
       "exploitationprevent           1\n",
       "spannend                      1\n",
       "emailsescalations             1\n",
       "dim                           1\n",
       "handfuls                      1\n",
       "fluctate                      1\n",
       "graceful                      1\n",
       "otno                          1\n",
       "Length: 36438, dtype: int64>"
      ]
     },
     "execution_count": 21,
     "metadata": {},
     "output_type": "execute_result"
    }
   ],
   "source": [
    "# 5. Remove Rare words, which will not contribute to our model\n",
    "all_words = ' '.join( df['feedback'] ).split()\n",
    "rarely = pd.Series(all_words).value_counts()[-55000:]\n",
    "rarely.sort_values"
   ]
  },
  {
   "cell_type": "code",
   "execution_count": 25,
   "metadata": {},
   "outputs": [
    {
     "data": {
      "text/plain": [
       "0    early opinions working amazon exciting right t...\n",
       "1    amazing friendly environment employee discount...\n",
       "2    different huge responsibility fast impact righ...\n",
       "3    better average sweat shop sharp cutting edge b...\n",
       "4    highly recommended pay load advancement techno...\n",
       "Name: feedback, dtype: object"
      ]
     },
     "execution_count": 25,
     "metadata": {},
     "output_type": "execute_result"
    }
   ],
   "source": [
    "df['feedback'].head(5)"
   ]
  },
  {
   "cell_type": "code",
   "execution_count": 23,
   "metadata": {},
   "outputs": [],
   "source": [
    "# the abover words might not contribute to our model\n",
    "# remove those rare words \n",
    "df['feedback1'] = df['feedback'].apply( lambda x: \" \".join( x for x in x.split() if x not in rarely ) )\n"
   ]
  },
  {
   "cell_type": "code",
   "execution_count": 24,
   "metadata": {},
   "outputs": [
    {
     "data": {
      "text/plain": [
       "0     \n",
       "1     \n",
       "2     \n",
       "3     \n",
       "4     \n",
       "5     \n",
       "6     \n",
       "7     \n",
       "8     \n",
       "9     \n",
       "10    \n",
       "11    \n",
       "12    \n",
       "13    \n",
       "14    \n",
       "Name: feedback1, dtype: object"
      ]
     },
     "execution_count": 24,
     "metadata": {},
     "output_type": "execute_result"
    }
   ],
   "source": [
    "df['feedback1'].head(15)"
   ]
  },
  {
   "cell_type": "code",
   "execution_count": 27,
   "metadata": {},
   "outputs": [
    {
     "data": {
      "text/plain": [
       "0    early opinions working amazon exciting right t...\n",
       "1    amazing friendly environment employee discount...\n",
       "2    different huge responsibility fast impact righ...\n",
       "3    better average sweat shop sharp cutting edge b...\n",
       "4    highly recommended pay load advancement techno...\n",
       "Name: feedback, dtype: object"
      ]
     },
     "execution_count": 27,
     "metadata": {},
     "output_type": "execute_result"
    }
   ],
   "source": [
    "df.feedback.head(5)"
   ]
  },
  {
   "cell_type": "code",
   "execution_count": 28,
   "metadata": {},
   "outputs": [
    {
     "data": {
      "text/plain": [
       "<bound method Series.sort_values of time                      10270\n",
       "place                      9514\n",
       "working                    8904\n",
       "job                        8854\n",
       "pay                        8645\n",
       "culture                    7745\n",
       "environment                7647\n",
       "like                       7364\n",
       "team                       7252\n",
       "amazon                     6994\n",
       "lot                        6951\n",
       "dont                       6774\n",
       "managers                   6584\n",
       "many                       6352\n",
       "hours                      6314\n",
       "really                     6143\n",
       "balance                    6056\n",
       "make                       5941\n",
       "best                       5811\n",
       "much                       5810\n",
       "hard                       5638\n",
       "apple                      5373\n",
       "life                       5269\n",
       "one                        5265\n",
       "new                        5174\n",
       "manager                    5092\n",
       "opportunities              5059\n",
       "experience                 4902\n",
       "career                     4749\n",
       "microsoft                  4612\n",
       "                          ...  \n",
       "jbs                           1\n",
       "sau                           1\n",
       "jobconstant                   1\n",
       "wiped                         1\n",
       "miscommunicates               1\n",
       "meetingsoft                   1\n",
       "zuckerbergs                   1\n",
       "ultrapolitical                1\n",
       "docscompettive                1\n",
       "trainingcertifications        1\n",
       "softdrinks                    1\n",
       "inand                         1\n",
       "7075                          1\n",
       "productz                      1\n",
       "repetitivelong                1\n",
       "zealots                       1\n",
       "hordes                        1\n",
       "konkurrenz                    1\n",
       "toolsroll                     1\n",
       "infuse                        1\n",
       "nannies                       1\n",
       "reinterviewing                1\n",
       "exploitationprevent           1\n",
       "spannend                      1\n",
       "emailsescalations             1\n",
       "dim                           1\n",
       "handfuls                      1\n",
       "fluctate                      1\n",
       "graceful                      1\n",
       "otno                          1\n",
       "Length: 36438, dtype: int64>"
      ]
     },
     "execution_count": 28,
     "metadata": {},
     "output_type": "execute_result"
    }
   ],
   "source": [
    "# Check again for  rare words\n",
    "all_words = ' '.join( df['feedback'] ).split()\n",
    "rarely = pd.Series(all_words).value_counts()\n",
    "rarely.sort_values"
   ]
  },
  {
   "cell_type": "code",
   "execution_count": 29,
   "metadata": {},
   "outputs": [],
   "source": [
    "# 6. Spelling correction  -- not  necessary just need to remove the typos (rare words, which are accidently introduced)\n",
    "\n",
    "# most common issue to deal with; spelling mistake, typos, shortcuts, abbreviatiosn (very common in when typing)\n",
    "# spelling correction also help remove duplication that created by spelling mistakes like python, pythn, pythom etc.\n",
    "\n",
    "# ** TextBlob is a Python library for processing textual data.\n",
    "# Can be used for common NLP tasks such as part-of-speech tagging, noun phrase extraction, sentiment analysis, classification,\n",
    "# translation, and more.\n",
    "\n",
    "# Spelling correction takes a lot of time. Also, we cannot always expect it to be accurate. \n",
    "# words are often used in their abbreviated form. For instance, ‘your’ is used as ‘ur’. We should treat this before the spelling\n",
    "# correction step, otherwise these words might be transformed into any other word.\n",
    "\n",
    "from textblob import TextBlob\n",
    "\n",
    "# let's try spelling correction on 5 titles\n",
    "# TextBlob takes one title and checks for each word for correction and corrects spellings and returns TextBlob; we can convert \n",
    "# into a string\n",
    "#type(TextBlob(\"ysfunctional selfish drags kiss dysfu\").correct())\n",
    "\n",
    "\n",
    "# !!!!!!!!!!!!!!!!!!!!!!!!  Warning: This step is gonna take too much time maybe a few hours\n",
    "#train['title'].apply( lambda x :  str( TextBlob(x).correct() ) )\n"
   ]
  },
  {
   "cell_type": "code",
   "execution_count": 30,
   "metadata": {},
   "outputs": [
    {
     "name": "stdout",
     "output_type": "stream",
     "text": [
      "[nltk_data] Downloading package wordnet to\n",
      "[nltk_data]     C:\\Users\\Adarsh\\AppData\\Roaming\\nltk_data...\n",
      "[nltk_data]   Package wordnet is already up-to-date!\n"
     ]
    }
   ],
   "source": [
    "# 7 . Lemmatization ; its preferred over stemming because if finds the root word\n",
    "import nltk\n",
    "nltk.download('wordnet')\n",
    "from textblob import Word \n",
    "\n"
   ]
  },
  {
   "cell_type": "code",
   "execution_count": 31,
   "metadata": {},
   "outputs": [
    {
     "data": {
      "text/plain": [
       "0    early opinion working amazon exciting right te...\n",
       "1    amazing friendly environment employee discount...\n",
       "2    different huge responsibility fast impact righ...\n",
       "3    better average sweat shop sharp cutting edge b...\n",
       "4    highly recommended pay load advancement techno...\n",
       "Name: feedback, dtype: object"
      ]
     },
     "execution_count": 31,
     "metadata": {},
     "output_type": "execute_result"
    }
   ],
   "source": [
    "# perform lemmatization on the title\n",
    "df['feedback'] = df['feedback'].apply( lambda x : \" \".join( [Word(word).lemmatize() for word in x.split()  ]) )\n",
    "df['feedback'].head(5)"
   ]
  },
  {
   "cell_type": "code",
   "execution_count": 32,
   "metadata": {},
   "outputs": [
    {
     "data": {
      "text/html": [
       "<div>\n",
       "<style scoped>\n",
       "    .dataframe tbody tr th:only-of-type {\n",
       "        vertical-align: middle;\n",
       "    }\n",
       "\n",
       "    .dataframe tbody tr th {\n",
       "        vertical-align: top;\n",
       "    }\n",
       "\n",
       "    .dataframe thead th {\n",
       "        text-align: right;\n",
       "    }\n",
       "</style>\n",
       "<table border=\"1\" class=\"dataframe\">\n",
       "  <thead>\n",
       "    <tr style=\"text-align: right;\">\n",
       "      <th></th>\n",
       "      <th>feedback</th>\n",
       "      <th>job_status</th>\n",
       "      <th>feedback_word_count</th>\n",
       "      <th>avg_word_len</th>\n",
       "      <th>sentiment_score</th>\n",
       "      <th>sentiment</th>\n",
       "      <th>feedback1</th>\n",
       "    </tr>\n",
       "  </thead>\n",
       "  <tbody>\n",
       "    <tr>\n",
       "      <th>0</th>\n",
       "      <td>early opinion working amazon exciting right te...</td>\n",
       "      <td>0</td>\n",
       "      <td>88</td>\n",
       "      <td>4.534091</td>\n",
       "      <td>0.124329</td>\n",
       "      <td>1</td>\n",
       "      <td></td>\n",
       "    </tr>\n",
       "    <tr>\n",
       "      <th>1</th>\n",
       "      <td>amazing friendly environment employee discount...</td>\n",
       "      <td>0</td>\n",
       "      <td>104</td>\n",
       "      <td>4.336538</td>\n",
       "      <td>0.448133</td>\n",
       "      <td>1</td>\n",
       "      <td></td>\n",
       "    </tr>\n",
       "    <tr>\n",
       "      <th>2</th>\n",
       "      <td>different huge responsibility fast impact righ...</td>\n",
       "      <td>0</td>\n",
       "      <td>151</td>\n",
       "      <td>4.516556</td>\n",
       "      <td>0.373810</td>\n",
       "      <td>1</td>\n",
       "      <td></td>\n",
       "    </tr>\n",
       "    <tr>\n",
       "      <th>3</th>\n",
       "      <td>better average sweat shop sharp cutting edge b...</td>\n",
       "      <td>0</td>\n",
       "      <td>153</td>\n",
       "      <td>4.895425</td>\n",
       "      <td>0.199087</td>\n",
       "      <td>1</td>\n",
       "      <td></td>\n",
       "    </tr>\n",
       "    <tr>\n",
       "      <th>4</th>\n",
       "      <td>highly recommended pay load advancement techno...</td>\n",
       "      <td>0</td>\n",
       "      <td>27</td>\n",
       "      <td>6.370370</td>\n",
       "      <td>0.480000</td>\n",
       "      <td>1</td>\n",
       "      <td></td>\n",
       "    </tr>\n",
       "  </tbody>\n",
       "</table>\n",
       "</div>"
      ],
      "text/plain": [
       "                                            feedback  job_status  \\\n",
       "0  early opinion working amazon exciting right te...           0   \n",
       "1  amazing friendly environment employee discount...           0   \n",
       "2  different huge responsibility fast impact righ...           0   \n",
       "3  better average sweat shop sharp cutting edge b...           0   \n",
       "4  highly recommended pay load advancement techno...           0   \n",
       "\n",
       "   feedback_word_count  avg_word_len  sentiment_score  sentiment feedback1  \n",
       "0                   88      4.534091         0.124329          1            \n",
       "1                  104      4.336538         0.448133          1            \n",
       "2                  151      4.516556         0.373810          1            \n",
       "3                  153      4.895425         0.199087          1            \n",
       "4                   27      6.370370         0.480000          1            "
      ]
     },
     "execution_count": 32,
     "metadata": {},
     "output_type": "execute_result"
    }
   ],
   "source": [
    "df.head(5)"
   ]
  },
  {
   "cell_type": "code",
   "execution_count": 33,
   "metadata": {},
   "outputs": [],
   "source": [
    "# better save the file to avoid time consuming re-work on lemmatization\n",
    "df.to_csv(r'C:\\Users\\Adarsh\\uOttawa\\ML Course Project-7Apr\\datasets\\4a-after-text-cleaning.csv', \n",
    "                    index=False)"
   ]
  },
  {
   "cell_type": "code",
   "execution_count": 34,
   "metadata": {},
   "outputs": [],
   "source": [
    "# Now our data cleaning has almost been done. It's time to extract more features :\n",
    "# 1. n-grams\n",
    "# 2. tf-idf\n",
    "# 3. bag of words\n",
    "\n",
    "df = pd.read_csv(r'C:\\Users\\Adarsh\\uOttawa\\ML Course Project-7Apr\\datasets\\4a-after-text-cleaning.csv')"
   ]
  },
  {
   "cell_type": "code",
   "execution_count": 35,
   "metadata": {},
   "outputs": [
    {
     "data": {
      "text/html": [
       "<div>\n",
       "<style scoped>\n",
       "    .dataframe tbody tr th:only-of-type {\n",
       "        vertical-align: middle;\n",
       "    }\n",
       "\n",
       "    .dataframe tbody tr th {\n",
       "        vertical-align: top;\n",
       "    }\n",
       "\n",
       "    .dataframe thead th {\n",
       "        text-align: right;\n",
       "    }\n",
       "</style>\n",
       "<table border=\"1\" class=\"dataframe\">\n",
       "  <thead>\n",
       "    <tr style=\"text-align: right;\">\n",
       "      <th></th>\n",
       "      <th>feedback</th>\n",
       "      <th>job_status</th>\n",
       "      <th>feedback_word_count</th>\n",
       "      <th>avg_word_len</th>\n",
       "      <th>sentiment_score</th>\n",
       "      <th>sentiment</th>\n",
       "      <th>feedback1</th>\n",
       "    </tr>\n",
       "  </thead>\n",
       "  <tbody>\n",
       "    <tr>\n",
       "      <th>0</th>\n",
       "      <td>early opinion working amazon exciting right te...</td>\n",
       "      <td>0</td>\n",
       "      <td>88</td>\n",
       "      <td>4.534091</td>\n",
       "      <td>0.124329</td>\n",
       "      <td>1</td>\n",
       "      <td>NaN</td>\n",
       "    </tr>\n",
       "    <tr>\n",
       "      <th>1</th>\n",
       "      <td>amazing friendly environment employee discount...</td>\n",
       "      <td>0</td>\n",
       "      <td>104</td>\n",
       "      <td>4.336538</td>\n",
       "      <td>0.448133</td>\n",
       "      <td>1</td>\n",
       "      <td>NaN</td>\n",
       "    </tr>\n",
       "    <tr>\n",
       "      <th>2</th>\n",
       "      <td>different huge responsibility fast impact righ...</td>\n",
       "      <td>0</td>\n",
       "      <td>151</td>\n",
       "      <td>4.516556</td>\n",
       "      <td>0.373810</td>\n",
       "      <td>1</td>\n",
       "      <td>NaN</td>\n",
       "    </tr>\n",
       "    <tr>\n",
       "      <th>3</th>\n",
       "      <td>better average sweat shop sharp cutting edge b...</td>\n",
       "      <td>0</td>\n",
       "      <td>153</td>\n",
       "      <td>4.895425</td>\n",
       "      <td>0.199087</td>\n",
       "      <td>1</td>\n",
       "      <td>NaN</td>\n",
       "    </tr>\n",
       "    <tr>\n",
       "      <th>4</th>\n",
       "      <td>highly recommended pay load advancement techno...</td>\n",
       "      <td>0</td>\n",
       "      <td>27</td>\n",
       "      <td>6.370370</td>\n",
       "      <td>0.480000</td>\n",
       "      <td>1</td>\n",
       "      <td>NaN</td>\n",
       "    </tr>\n",
       "  </tbody>\n",
       "</table>\n",
       "</div>"
      ],
      "text/plain": [
       "                                            feedback  job_status  \\\n",
       "0  early opinion working amazon exciting right te...           0   \n",
       "1  amazing friendly environment employee discount...           0   \n",
       "2  different huge responsibility fast impact righ...           0   \n",
       "3  better average sweat shop sharp cutting edge b...           0   \n",
       "4  highly recommended pay load advancement techno...           0   \n",
       "\n",
       "   feedback_word_count  avg_word_len  sentiment_score  sentiment  feedback1  \n",
       "0                   88      4.534091         0.124329          1        NaN  \n",
       "1                  104      4.336538         0.448133          1        NaN  \n",
       "2                  151      4.516556         0.373810          1        NaN  \n",
       "3                  153      4.895425         0.199087          1        NaN  \n",
       "4                   27      6.370370         0.480000          1        NaN  "
      ]
     },
     "execution_count": 35,
     "metadata": {},
     "output_type": "execute_result"
    }
   ],
   "source": [
    "df.head(5)"
   ]
  },
  {
   "cell_type": "code",
   "execution_count": 30,
   "metadata": {
    "scrolled": true
   },
   "outputs": [],
   "source": [
    "# calculating tf-idf using scikitlearn\n",
    "# sublinear_df  - is set to True to use a logarithmic form for frequency.\n",
    "# min_df - is the minimum numbers of documents a word must be present in to be kept.\n",
    "# norm - is set to l2, to ensure all our feature vectors have a euclidian norm of 1.\n",
    "# ngram_range -  is set to (1, 2) to indicate that we want to consider both unigrams and bigrams.\n",
    "# stop_words - is set to \"english\" to remove all common pronouns (\"a\", \"the\", ...) to reduce the number of noisy features.\n",
    "\n",
    "from sklearn.feature_extraction.text import TfidfVectorizer\n",
    "\n",
    "tfidf = TfidfVectorizer(sublinear_tf=True, min_df=50, norm='l2', encoding='latin-1', ngram_range=(1, 3))\n",
    "\n",
    "features = tfidf.fit_transform(df.feedback.values.astype('str')).toarray()\n",
    "labels = df.job_status"
   ]
  },
  {
   "cell_type": "code",
   "execution_count": 31,
   "metadata": {},
   "outputs": [
    {
     "data": {
      "text/plain": [
       "array([[0],\n",
       "       [1]], dtype=int64)"
      ]
     },
     "execution_count": 31,
     "metadata": {},
     "output_type": "execute_result"
    }
   ],
   "source": [
    "\n",
    "# create a dataframe to lookup which label value belongs to which collection?\n",
    "#category_id_df = df[['Product', 'category_id']].drop_duplicates().sort_values('category_id')\n",
    "job_status_df = df[['job_status']].drop_duplicates().sort_values('job_status')\n",
    "\n",
    "\n",
    "category_ids = job_status_df.values\n",
    "#id_to_category = dict(collection_labels_df[['collection', 'collection_labels']].values)\n",
    "\n",
    "category_ids\n"
   ]
  },
  {
   "cell_type": "code",
   "execution_count": 32,
   "metadata": {},
   "outputs": [
    {
     "name": "stdout",
     "output_type": "stream",
     "text": [
      "# '[0]':\n",
      "  . Most correlated unigrams:\n",
      "       . nan\n",
      "  . Most correlated bigrams:\n",
      "       . \n",
      "  . Most correlated trigrams:\n",
      "       . \n",
      "# '[1]':\n",
      "  . Most correlated unigrams:\n",
      "       . nan\n",
      "  . Most correlated bigrams:\n",
      "       . \n",
      "  . Most correlated trigrams:\n",
      "       . \n"
     ]
    }
   ],
   "source": [
    "# let's find some interesting corelated unigrams and bigrams and trigrams\n",
    "from sklearn.feature_selection import chi2\n",
    "import numpy as np\n",
    "\n",
    "N = 5\n",
    "\n",
    "for status in sorted(category_ids):\n",
    "    \n",
    "    \n",
    "    features_chi2 = chi2(features, labels == labels)\n",
    "    indices = np.argsort(features_chi2[0])\n",
    "    feature_names = np.array(tfidf.get_feature_names())[indices]\n",
    "    unigrams = [v for v in feature_names if len(v.split(' ')) == 1]\n",
    "    bigrams = [v for v in feature_names if len(v.split(' ')) == 2]\n",
    "    trigrams = [v for v in feature_names if len(v.split(' ')) == 3]\n",
    "    \n",
    "    print(\"# '{}':\".format(status))\n",
    "    print(\"  . Most correlated unigrams:\\n       . {}\".format('\\n       . '.join(unigrams[-N:])))\n",
    "    print(\"  . Most correlated bigrams:\\n       . {}\".format('\\n       . '.join(bigrams[-N:])))\n",
    "    print(\"  . Most correlated trigrams:\\n       . {}\".format('\\n       . '.join(trigrams[-N:])))"
   ]
  },
  {
   "cell_type": "code",
   "execution_count": 33,
   "metadata": {},
   "outputs": [],
   "source": [
    "# further data exploration\n",
    "cv = CountVectorizer(stop_words='english')\n",
    "data_cv = cv.fit_transform(df.feedback.values.astype('str'))\n",
    "\n",
    "data_dtm = pd.DataFrame(data_cv.toarray(), columns=cv.get_feature_names())\n",
    "data_dtm.index = df.index\n"
   ]
  },
  {
   "cell_type": "code",
   "execution_count": 34,
   "metadata": {},
   "outputs": [
    {
     "data": {
      "text/plain": [
       "Index(['nan'], dtype='object')"
      ]
     },
     "execution_count": 34,
     "metadata": {},
     "output_type": "execute_result"
    }
   ],
   "source": [
    "data_dtm.columns"
   ]
  }
 ],
 "metadata": {
  "kernelspec": {
   "display_name": "Python 3",
   "language": "python",
   "name": "python3"
  },
  "language_info": {
   "codemirror_mode": {
    "name": "ipython",
    "version": 3
   },
   "file_extension": ".py",
   "mimetype": "text/x-python",
   "name": "python",
   "nbconvert_exporter": "python",
   "pygments_lexer": "ipython3",
   "version": "3.6.6"
  }
 },
 "nbformat": 4,
 "nbformat_minor": 2
}
